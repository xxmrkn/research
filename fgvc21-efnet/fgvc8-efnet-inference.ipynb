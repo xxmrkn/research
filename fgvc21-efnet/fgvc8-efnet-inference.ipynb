{
 "cells": [
  {
   "cell_type": "markdown",
   "id": "f1269203",
   "metadata": {
    "papermill": {
     "duration": 0.017932,
     "end_time": "2021-07-14T11:11:00.959374",
     "exception": false,
     "start_time": "2021-07-14T11:11:00.941442",
     "status": "completed"
    },
    "tags": []
   },
   "source": [
    "# Import Library"
   ]
  },
  {
   "cell_type": "code",
   "execution_count": 1,
   "id": "76003b19",
   "metadata": {
    "execution": {
     "iopub.execute_input": "2021-07-14T11:11:00.998467Z",
     "iopub.status.busy": "2021-07-14T11:11:00.996671Z",
     "iopub.status.idle": "2021-07-14T11:11:04.384930Z",
     "shell.execute_reply": "2021-07-14T11:11:04.384361Z",
     "shell.execute_reply.started": "2021-07-14T06:35:11.398839Z"
    },
    "papermill": {
     "duration": 3.408902,
     "end_time": "2021-07-14T11:11:04.385070",
     "exception": false,
     "start_time": "2021-07-14T11:11:00.976168",
     "status": "completed"
    },
    "tags": []
   },
   "outputs": [],
   "source": [
    "import os\n",
    "import sys\n",
    "sys.path.append('../input/timm-pytorch-image-models/pytorch-image-models-master')\n",
    "import timm"
   ]
  },
  {
   "cell_type": "code",
   "execution_count": 2,
   "id": "a2b96a91",
   "metadata": {
    "execution": {
     "iopub.execute_input": "2021-07-14T11:11:04.422607Z",
     "iopub.status.busy": "2021-07-14T11:11:04.421927Z",
     "iopub.status.idle": "2021-07-14T11:11:06.175514Z",
     "shell.execute_reply": "2021-07-14T11:11:06.175962Z",
     "shell.execute_reply.started": "2021-07-14T06:35:16.648129Z"
    },
    "papermill": {
     "duration": 1.776342,
     "end_time": "2021-07-14T11:11:06.176142",
     "exception": false,
     "start_time": "2021-07-14T11:11:04.399800",
     "status": "completed"
    },
    "tags": []
   },
   "outputs": [],
   "source": [
    "import matplotlib.pyplot as plt\n",
    "import numpy as np\n",
    "import pandas as pd\n",
    "from sklearn.model_selection import StratifiedKFold, GroupKFold, KFold\n",
    "from sklearn.preprocessing import LabelEncoder\n",
    "\n",
    "from sklearn.metrics import f1_score, accuracy_score\n",
    "from collections import defaultdict\n",
    "\n",
    "import torch\n",
    "import torch.nn as nn\n",
    "import torch.optim as optim\n",
    "from torch.optim import lr_scheduler\n",
    "import torch.nn.functional as F\n",
    "from torch.optim import Adam, SGD\n",
    "import torchvision.models as models\n",
    "from torch.nn.parameter import Parameter\n",
    "from torch.utils.data import Dataset\n",
    "from torch.utils.data import DataLoader\n",
    "from torchvision import transforms\n",
    "import torchvision.transforms.functional as TF\n",
    "\n",
    "import cv2\n",
    "\n",
    "from tqdm import tqdm\n",
    "\n",
    "import albumentations as A\n",
    "from albumentations import (\n",
    "    Compose, OneOf, Normalize, CenterCrop, Resize, RandomResizedCrop, RandomCrop, HorizontalFlip, VerticalFlip, \n",
    "    RandomBrightness, RandomContrast, RandomBrightnessContrast, RandomRotate90, ShiftScaleRotate, Cutout, \n",
    "    IAAAdditiveGaussianNoise, Transpose, HueSaturationValue, CoarseDropout\n",
    "    )\n",
    "from albumentations.pytorch import ToTensorV2\n",
    "\n",
    "import warnings\n",
    "warnings.filterwarnings(\"ignore\")\n",
    "\n",
    "import logging\n",
    "import time\n",
    "from contextlib import contextmanager\n",
    "\n",
    "DEVICE = \"cuda\" if torch.cuda.is_available() else \"cpu\""
   ]
  },
  {
   "cell_type": "markdown",
   "id": "961de6c5",
   "metadata": {
    "papermill": {
     "duration": 0.015082,
     "end_time": "2021-07-14T11:11:06.207532",
     "exception": false,
     "start_time": "2021-07-14T11:11:06.192450",
     "status": "completed"
    },
    "tags": []
   },
   "source": [
    "# Directly Settings"
   ]
  },
  {
   "cell_type": "code",
   "execution_count": 3,
   "id": "5effe681",
   "metadata": {
    "execution": {
     "iopub.execute_input": "2021-07-14T11:11:06.241109Z",
     "iopub.status.busy": "2021-07-14T11:11:06.240591Z",
     "iopub.status.idle": "2021-07-14T11:11:06.275805Z",
     "shell.execute_reply": "2021-07-14T11:11:06.275338Z",
     "shell.execute_reply.started": "2021-07-14T06:35:21.051574Z"
    },
    "papermill": {
     "duration": 0.0537,
     "end_time": "2021-07-14T11:11:06.275909",
     "exception": false,
     "start_time": "2021-07-14T11:11:06.222209",
     "status": "completed"
    },
    "tags": []
   },
   "outputs": [],
   "source": [
    "DATA_DIR = '../input/plant-pathology-2021-fgvc8/'\n",
    "TEST_DIR = DATA_DIR + 'test_images/'\n",
    "TRAIN_DIR = DATA_DIR + 'train_images/'\n",
    "TRAIN_CSV_DIR = DATA_DIR + 'train.csv'\n",
    "TEST_CSV_DIR = DATA_DIR + 'sample_submission.csv'\n",
    "train_df = pd.read_csv(TRAIN_CSV_DIR)\n",
    "sub_df = pd.read_csv(TEST_CSV_DIR)"
   ]
  },
  {
   "cell_type": "code",
   "execution_count": 4,
   "id": "18b5e6b9",
   "metadata": {
    "execution": {
     "iopub.execute_input": "2021-07-14T11:11:06.316000Z",
     "iopub.status.busy": "2021-07-14T11:11:06.315197Z",
     "iopub.status.idle": "2021-07-14T11:11:06.331199Z",
     "shell.execute_reply": "2021-07-14T11:11:06.331593Z",
     "shell.execute_reply.started": "2021-07-14T06:35:22.948514Z"
    },
    "papermill": {
     "duration": 0.041221,
     "end_time": "2021-07-14T11:11:06.331712",
     "exception": false,
     "start_time": "2021-07-14T11:11:06.290491",
     "status": "completed"
    },
    "tags": []
   },
   "outputs": [
    {
     "data": {
      "text/plain": [
       "array([[0, 0, 0, ..., 0, 0, 0],\n",
       "       [0, 0, 0, ..., 0, 0, 1],\n",
       "       [0, 0, 0, ..., 1, 0, 0],\n",
       "       ...,\n",
       "       [0, 0, 0, ..., 0, 0, 0],\n",
       "       [0, 0, 0, ..., 0, 1, 0],\n",
       "       [0, 0, 0, ..., 0, 0, 0]], dtype=uint8)"
      ]
     },
     "execution_count": 4,
     "metadata": {},
     "output_type": "execute_result"
    }
   ],
   "source": [
    "#TARGET = train_df['labels'].unique()\n",
    "TARGET = ['image','healthy', 'scab frog_eye_leaf_spot complex', 'scab', 'complex',\n",
    "       'rust', 'frog_eye_leaf_spot', 'powdery_mildew',\n",
    "       'scab frog_eye_leaf_spot', 'frog_eye_leaf_spot complex',\n",
    "       'rust frog_eye_leaf_spot', 'powdery_mildew complex',\n",
    "       'rust complex']\n",
    "SUB_LABELS = ['image','labels']\n",
    "\n",
    "onehot_df = pd.get_dummies(train_df, columns=['labels'])\n",
    "col = onehot_df.drop('image', axis=1)#変換したラベルを取得する\n",
    "TARGET_COLUMNS = col.columns.values\n",
    "onehot_df[TARGET_COLUMNS].values"
   ]
  },
  {
   "cell_type": "markdown",
   "id": "80197730",
   "metadata": {
    "papermill": {
     "duration": 0.014483,
     "end_time": "2021-07-14T11:11:06.361329",
     "exception": false,
     "start_time": "2021-07-14T11:11:06.346846",
     "status": "completed"
    },
    "tags": []
   },
   "source": [
    "# CFG"
   ]
  },
  {
   "cell_type": "code",
   "execution_count": 5,
   "id": "706fa73d",
   "metadata": {
    "execution": {
     "iopub.execute_input": "2021-07-14T11:11:06.397917Z",
     "iopub.status.busy": "2021-07-14T11:11:06.397216Z",
     "iopub.status.idle": "2021-07-14T11:11:06.399816Z",
     "shell.execute_reply": "2021-07-14T11:11:06.399329Z",
     "shell.execute_reply.started": "2021-07-14T06:35:26.022041Z"
    },
    "papermill": {
     "duration": 0.023883,
     "end_time": "2021-07-14T11:11:06.399913",
     "exception": false,
     "start_time": "2021-07-14T11:11:06.376030",
     "status": "completed"
    },
    "tags": []
   },
   "outputs": [],
   "source": [
    "CFG = {\n",
    "    'model_arch': 'efficientnet_b4',\n",
    "    'img_size': 320,\n",
    "    'epochs': 3,\n",
    "    'lr': 0.001,\n",
    "}\n",
    "\n",
    "TARGET = ['image','healthy', 'scab frog_eye_leaf_spot complex', 'scab', 'complex',\n",
    "       'rust', 'frog_eye_leaf_spot', 'powdery_mildew',\n",
    "       'scab frog_eye_leaf_spot', 'frog_eye_leaf_spot complex',\n",
    "       'rust frog_eye_leaf_spot', 'powdery_mildew complex',\n",
    "       'rust complex']\n",
    "\n",
    "def seed_everything(seed=1234):\n",
    "    random.seed(seed)\n",
    "    os.environ['PYTHONHASHSEED'] = str(seed)\n",
    "    np.random.seed(seed)\n",
    "    torch.manual_seed(seed)\n",
    "    torch.cuda.manual_seed(seed)\n",
    "    torch.backends.cudnn.deterministic = True\n",
    "\n",
    "@contextmanager\n",
    "def timer(name, logger=None, level=logging.DEBUG):\n",
    "    print_ = print if logger is None else lambda msg: logger.log(level, msg)\n",
    "    t0 = time.time()\n",
    "    print_(f'[{name}] start')\n",
    "    yield\n",
    "    print_(f'[{name}] done in {time.time() - t0:.0f} s')"
   ]
  },
  {
   "cell_type": "markdown",
   "id": "9f18fb2e",
   "metadata": {
    "papermill": {
     "duration": 0.014569,
     "end_time": "2021-07-14T11:11:06.429342",
     "exception": false,
     "start_time": "2021-07-14T11:11:06.414773",
     "status": "completed"
    },
    "tags": []
   },
   "source": [
    "# Dataset"
   ]
  },
  {
   "cell_type": "code",
   "execution_count": 6,
   "id": "78033ffc",
   "metadata": {
    "execution": {
     "iopub.execute_input": "2021-07-14T11:11:06.464507Z",
     "iopub.status.busy": "2021-07-14T11:11:06.463813Z",
     "iopub.status.idle": "2021-07-14T11:11:06.466100Z",
     "shell.execute_reply": "2021-07-14T11:11:06.466465Z",
     "shell.execute_reply.started": "2021-07-14T06:35:30.685285Z"
    },
    "papermill": {
     "duration": 0.022364,
     "end_time": "2021-07-14T11:11:06.466590",
     "exception": false,
     "start_time": "2021-07-14T11:11:06.444226",
     "status": "completed"
    },
    "tags": []
   },
   "outputs": [],
   "source": [
    "class TestDataset(Dataset):\n",
    "    def __init__(self, onehot_df, transform = None):\n",
    "        self.onehot_df = onehot_df\n",
    "        self.image_names = onehot_df[\"image\"].values\n",
    "        self.transform = transform\n",
    "        \n",
    "    def __len__(self):\n",
    "        return len(self.onehot_df)\n",
    "    \n",
    "    def __getitem__(self, idx):\n",
    "        image_name = self.image_names[idx]\n",
    "        image_path = TEST_DIR + image_name\n",
    "        image = cv2.imread(image_path)\n",
    "        image = cv2.cvtColor(image, cv2.COLOR_BGR2RGB)\n",
    "        if self.transform:\n",
    "            augmented = self.transform(image=image)\n",
    "            image = augmented['image']\n",
    "        return image"
   ]
  },
  {
   "cell_type": "markdown",
   "id": "3f33c274",
   "metadata": {
    "papermill": {
     "duration": 0.014366,
     "end_time": "2021-07-14T11:11:06.495557",
     "exception": false,
     "start_time": "2021-07-14T11:11:06.481191",
     "status": "completed"
    },
    "tags": []
   },
   "source": [
    "# Transform"
   ]
  },
  {
   "cell_type": "code",
   "execution_count": 7,
   "id": "39441246",
   "metadata": {
    "execution": {
     "iopub.execute_input": "2021-07-14T11:11:06.531235Z",
     "iopub.status.busy": "2021-07-14T11:11:06.530526Z",
     "iopub.status.idle": "2021-07-14T11:11:06.533079Z",
     "shell.execute_reply": "2021-07-14T11:11:06.532695Z",
     "shell.execute_reply.started": "2021-07-14T06:35:38.921086Z"
    },
    "papermill": {
     "duration": 0.022917,
     "end_time": "2021-07-14T11:11:06.533197",
     "exception": false,
     "start_time": "2021-07-14T11:11:06.510280",
     "status": "completed"
    },
    "tags": []
   },
   "outputs": [],
   "source": [
    "def get_transforms(*,data):\n",
    "    \n",
    "    if data == 'train':\n",
    "        return Compose([\n",
    "            Resize(CFG['img_size'], CFG['img_size']),\n",
    "            RandomResizedCrop(CFG['img_size'], CFG['img_size'], scale=(0.85, 1.0)),\n",
    "            HorizontalFlip(p=0.5),\n",
    "            Normalize(\n",
    "                mean=[0.48, 0.456, 0.406],\n",
    "                std=[0.229, 0.224, 0.225],\n",
    "            ),\n",
    "            ToTensorV2(),\n",
    "        ])\n",
    "    elif data == 'valid':\n",
    "        return Compose([\n",
    "            Resize(CFG['img_size'], CFG['img_size']),\n",
    "            #RandomResizedCrop(600, 600, scale=(0.85, 1.0)),\n",
    "            #HorizontalFlip(p=0.5),\n",
    "            Normalize(\n",
    "                mean=[0.48, 0.456, 0.406],\n",
    "                std=[0.229, 0.224, 0.225],\n",
    "            ),\n",
    "            ToTensorV2(),\n",
    "        ])"
   ]
  },
  {
   "cell_type": "markdown",
   "id": "c917d81b",
   "metadata": {
    "papermill": {
     "duration": 0.014303,
     "end_time": "2021-07-14T11:11:06.562186",
     "exception": false,
     "start_time": "2021-07-14T11:11:06.547883",
     "status": "completed"
    },
    "tags": []
   },
   "source": [
    "# Create Model"
   ]
  },
  {
   "cell_type": "code",
   "execution_count": 8,
   "id": "c4c2953f",
   "metadata": {
    "execution": {
     "iopub.execute_input": "2021-07-14T11:11:06.599596Z",
     "iopub.status.busy": "2021-07-14T11:11:06.598995Z",
     "iopub.status.idle": "2021-07-14T11:11:11.360644Z",
     "shell.execute_reply": "2021-07-14T11:11:11.359558Z",
     "shell.execute_reply.started": "2021-07-14T06:35:48.24723Z"
    },
    "papermill": {
     "duration": 4.783286,
     "end_time": "2021-07-14T11:11:11.360773",
     "exception": false,
     "start_time": "2021-07-14T11:11:06.577487",
     "status": "completed"
    },
    "tags": []
   },
   "outputs": [],
   "source": [
    "class EfficientNetB4(nn.Module):\n",
    "    \"\"\"\n",
    "        Base class for all neural network modules.\n",
    "        Your models should also subclass this class.\n",
    "        Modules can also contain other Modules, allowing to nest them in a tree structure.\n",
    "        You can assign the submodules as regular attributes:\n",
    "    \"\"\"\n",
    "    def __init__(self):\n",
    "        super().__init__()\n",
    "        self.efficientnetb4 = timm.create_model(model_name = CFG['model_arch'],pretrained = False)\n",
    "        in_features = self.efficientnetb4.classifier.in_features\n",
    "        self.efficientnetb4.classifier = nn.Linear(in_features, len(TARGET_COLUMNS))#(input_size,output_size)\n",
    "        \n",
    "    def forward(self, x):\n",
    "        x = self.efficientnetb4(x)\n",
    "        return x\n",
    "    \n",
    "model = EfficientNetB4()\n",
    "model = model.to(DEVICE)"
   ]
  },
  {
   "cell_type": "markdown",
   "id": "f7cdcd01",
   "metadata": {
    "papermill": {
     "duration": 0.015546,
     "end_time": "2021-07-14T11:11:11.392368",
     "exception": false,
     "start_time": "2021-07-14T11:11:11.376822",
     "status": "completed"
    },
    "tags": []
   },
   "source": [
    "# Inference "
   ]
  },
  {
   "cell_type": "code",
   "execution_count": 9,
   "id": "df56f77c",
   "metadata": {
    "execution": {
     "iopub.execute_input": "2021-07-14T11:11:11.427442Z",
     "iopub.status.busy": "2021-07-14T11:11:11.426623Z",
     "iopub.status.idle": "2021-07-14T11:11:13.627326Z",
     "shell.execute_reply": "2021-07-14T11:11:13.627851Z",
     "shell.execute_reply.started": "2021-07-14T06:36:11.02074Z"
    },
    "papermill": {
     "duration": 2.220918,
     "end_time": "2021-07-14T11:11:13.627996",
     "exception": false,
     "start_time": "2021-07-14T11:11:11.407078",
     "status": "completed"
    },
    "tags": []
   },
   "outputs": [
    {
     "data": {
      "text/plain": [
       "<All keys matched successfully>"
      ]
     },
     "execution_count": 9,
     "metadata": {},
     "output_type": "execute_result"
    }
   ],
   "source": [
    "model = EfficientNetB4().to(DEVICE)\n",
    "model.load_state_dict(torch.load(\"../input/myefnet-pth/model (1).pth\"))"
   ]
  },
  {
   "cell_type": "code",
   "execution_count": 10,
   "id": "936b4324",
   "metadata": {
    "execution": {
     "iopub.execute_input": "2021-07-14T11:11:13.662346Z",
     "iopub.status.busy": "2021-07-14T11:11:13.661796Z",
     "iopub.status.idle": "2021-07-14T11:11:13.665530Z",
     "shell.execute_reply": "2021-07-14T11:11:13.665123Z",
     "shell.execute_reply.started": "2021-07-14T06:36:15.185651Z"
    },
    "papermill": {
     "duration": 0.022652,
     "end_time": "2021-07-14T11:11:13.665634",
     "exception": false,
     "start_time": "2021-07-14T11:11:13.642982",
     "status": "completed"
    },
    "tags": []
   },
   "outputs": [],
   "source": [
    "test_dataset = TestDataset(sub_df, transform = get_transforms(data='valid'))\n",
    "test_loader = DataLoader(test_dataset, batch_size = 32, shuffle = False)"
   ]
  },
  {
   "cell_type": "code",
   "execution_count": 11,
   "id": "e388d897",
   "metadata": {
    "execution": {
     "iopub.execute_input": "2021-07-14T11:11:13.703293Z",
     "iopub.status.busy": "2021-07-14T11:11:13.702692Z",
     "iopub.status.idle": "2021-07-14T11:11:15.239310Z",
     "shell.execute_reply": "2021-07-14T11:11:15.238383Z",
     "shell.execute_reply.started": "2021-07-14T06:36:18.346505Z"
    },
    "papermill": {
     "duration": 1.558821,
     "end_time": "2021-07-14T11:11:15.239443",
     "exception": false,
     "start_time": "2021-07-14T11:11:13.680622",
     "status": "completed"
    },
    "tags": []
   },
   "outputs": [
    {
     "data": {
      "text/plain": [
       "array([[0.20093137, 0.07403488, 0.01049787, 0.05088155, 0.07679804,\n",
       "        0.01057071, 0.0182934 , 0.00726008, 0.00996437, 0.29756922,\n",
       "        0.02956754, 0.01548253],\n",
       "       [0.20358476, 0.07432201, 0.01109608, 0.05198032, 0.07863362,\n",
       "        0.01110281, 0.01932468, 0.00767683, 0.01059514, 0.29770237,\n",
       "        0.03031488, 0.01639665],\n",
       "       [0.20451978, 0.07410364, 0.01081907, 0.04969881, 0.07917578,\n",
       "        0.01095951, 0.01840554, 0.00744636, 0.01035937, 0.30359998,\n",
       "        0.03030632, 0.01623542]], dtype=float32)"
      ]
     },
     "execution_count": 11,
     "metadata": {},
     "output_type": "execute_result"
    }
   ],
   "source": [
    "submit_preds = []\n",
    "\n",
    "model.eval()\n",
    "with torch.no_grad():\n",
    "    for X in test_loader:\n",
    "        X = X.float().to(DEVICE)\n",
    "        submit_preds.append(model(X).sigmoid().to(\"cpu\"))\n",
    "    submit_preds = np.concatenate([p.numpy() for p in submit_preds], axis = 0)\n",
    "submit_preds"
   ]
  },
  {
   "cell_type": "markdown",
   "id": "9c7b1471",
   "metadata": {
    "papermill": {
     "duration": 0.01572,
     "end_time": "2021-07-14T11:11:15.271334",
     "exception": false,
     "start_time": "2021-07-14T11:11:15.255614",
     "status": "completed"
    },
    "tags": []
   },
   "source": [
    "# Create Submission File"
   ]
  },
  {
   "cell_type": "code",
   "execution_count": 12,
   "id": "056c71dc",
   "metadata": {
    "execution": {
     "iopub.execute_input": "2021-07-14T11:11:15.317585Z",
     "iopub.status.busy": "2021-07-14T11:11:15.316876Z",
     "iopub.status.idle": "2021-07-14T11:11:15.320512Z",
     "shell.execute_reply": "2021-07-14T11:11:15.320020Z",
     "shell.execute_reply.started": "2021-07-14T06:36:23.683562Z"
    },
    "papermill": {
     "duration": 0.0318,
     "end_time": "2021-07-14T11:11:15.320618",
     "exception": false,
     "start_time": "2021-07-14T11:11:15.288818",
     "status": "completed"
    },
    "tags": []
   },
   "outputs": [],
   "source": [
    "s = pd.DataFrame(submit_preds)\n",
    "tmp = np.concatenate([sub_df, s], axis = 1)\n",
    "tmp = pd.DataFrame(tmp)\n",
    "tmp = tmp.drop([1], axis=1)\n",
    "tmp.columns = TARGET\n",
    "tmp = tmp.iloc[0:,1:].astype(float)\n",
    "target = tmp.iloc[0:,1:].idxmax(axis = 1)\n",
    "s = pd.DataFrame(target)"
   ]
  },
  {
   "cell_type": "code",
   "execution_count": 13,
   "id": "9e9b8672",
   "metadata": {
    "execution": {
     "iopub.execute_input": "2021-07-14T11:11:15.355440Z",
     "iopub.status.busy": "2021-07-14T11:11:15.354776Z",
     "iopub.status.idle": "2021-07-14T11:11:15.364109Z",
     "shell.execute_reply": "2021-07-14T11:11:15.363692Z",
     "shell.execute_reply.started": "2021-07-14T06:37:19.283017Z"
    },
    "papermill": {
     "duration": 0.028351,
     "end_time": "2021-07-14T11:11:15.364218",
     "exception": false,
     "start_time": "2021-07-14T11:11:15.335867",
     "status": "completed"
    },
    "tags": []
   },
   "outputs": [
    {
     "data": {
      "text/html": [
       "<div>\n",
       "<style scoped>\n",
       "    .dataframe tbody tr th:only-of-type {\n",
       "        vertical-align: middle;\n",
       "    }\n",
       "\n",
       "    .dataframe tbody tr th {\n",
       "        vertical-align: top;\n",
       "    }\n",
       "\n",
       "    .dataframe thead th {\n",
       "        text-align: right;\n",
       "    }\n",
       "</style>\n",
       "<table border=\"1\" class=\"dataframe\">\n",
       "  <thead>\n",
       "    <tr style=\"text-align: right;\">\n",
       "      <th></th>\n",
       "      <th>0</th>\n",
       "    </tr>\n",
       "  </thead>\n",
       "  <tbody>\n",
       "    <tr>\n",
       "      <th>0</th>\n",
       "      <td>rust frog_eye_leaf_spot</td>\n",
       "    </tr>\n",
       "    <tr>\n",
       "      <th>1</th>\n",
       "      <td>rust frog_eye_leaf_spot</td>\n",
       "    </tr>\n",
       "    <tr>\n",
       "      <th>2</th>\n",
       "      <td>rust frog_eye_leaf_spot</td>\n",
       "    </tr>\n",
       "  </tbody>\n",
       "</table>\n",
       "</div>"
      ],
      "text/plain": [
       "                         0\n",
       "0  rust frog_eye_leaf_spot\n",
       "1  rust frog_eye_leaf_spot\n",
       "2  rust frog_eye_leaf_spot"
      ]
     },
     "execution_count": 13,
     "metadata": {},
     "output_type": "execute_result"
    }
   ],
   "source": [
    "s"
   ]
  },
  {
   "cell_type": "code",
   "execution_count": 14,
   "id": "e727a085",
   "metadata": {
    "execution": {
     "iopub.execute_input": "2021-07-14T11:11:15.400644Z",
     "iopub.status.busy": "2021-07-14T11:11:15.399989Z",
     "iopub.status.idle": "2021-07-14T11:11:15.403250Z",
     "shell.execute_reply": "2021-07-14T11:11:15.402841Z",
     "shell.execute_reply.started": "2021-07-14T06:36:26.028574Z"
    },
    "papermill": {
     "duration": 0.023643,
     "end_time": "2021-07-14T11:11:15.403354",
     "exception": false,
     "start_time": "2021-07-14T11:11:15.379711",
     "status": "completed"
    },
    "tags": []
   },
   "outputs": [],
   "source": [
    "tmp2 = np.concatenate([sub_df, s], axis = 1)\n",
    "tmp2 = pd.DataFrame(tmp2)\n",
    "tmp2 = tmp2.drop([1], axis=1)\n",
    "tmp2 = tmp2.set_axis(SUB_LABELS, axis = 1)"
   ]
  },
  {
   "cell_type": "code",
   "execution_count": 15,
   "id": "bc5c835f",
   "metadata": {
    "execution": {
     "iopub.execute_input": "2021-07-14T11:11:15.437707Z",
     "iopub.status.busy": "2021-07-14T11:11:15.437220Z",
     "iopub.status.idle": "2021-07-14T11:11:15.443709Z",
     "shell.execute_reply": "2021-07-14T11:11:15.443192Z",
     "shell.execute_reply.started": "2021-07-14T06:36:28.075421Z"
    },
    "papermill": {
     "duration": 0.024921,
     "end_time": "2021-07-14T11:11:15.443817",
     "exception": false,
     "start_time": "2021-07-14T11:11:15.418896",
     "status": "completed"
    },
    "tags": []
   },
   "outputs": [],
   "source": [
    "sub = tmp2.to_csv(\"submission.csv\",index = False)"
   ]
  },
  {
   "cell_type": "code",
   "execution_count": 16,
   "id": "f5387d4f",
   "metadata": {
    "execution": {
     "iopub.execute_input": "2021-07-14T11:11:15.478078Z",
     "iopub.status.busy": "2021-07-14T11:11:15.477595Z",
     "iopub.status.idle": "2021-07-14T11:11:15.488584Z",
     "shell.execute_reply": "2021-07-14T11:11:15.487907Z",
     "shell.execute_reply.started": "2021-07-14T06:38:50.327473Z"
    },
    "papermill": {
     "duration": 0.029368,
     "end_time": "2021-07-14T11:11:15.488698",
     "exception": false,
     "start_time": "2021-07-14T11:11:15.459330",
     "status": "completed"
    },
    "tags": []
   },
   "outputs": [
    {
     "data": {
      "text/html": [
       "<div>\n",
       "<style scoped>\n",
       "    .dataframe tbody tr th:only-of-type {\n",
       "        vertical-align: middle;\n",
       "    }\n",
       "\n",
       "    .dataframe tbody tr th {\n",
       "        vertical-align: top;\n",
       "    }\n",
       "\n",
       "    .dataframe thead th {\n",
       "        text-align: right;\n",
       "    }\n",
       "</style>\n",
       "<table border=\"1\" class=\"dataframe\">\n",
       "  <thead>\n",
       "    <tr style=\"text-align: right;\">\n",
       "      <th></th>\n",
       "      <th>image</th>\n",
       "      <th>labels</th>\n",
       "    </tr>\n",
       "  </thead>\n",
       "  <tbody>\n",
       "    <tr>\n",
       "      <th>0</th>\n",
       "      <td>85f8cb619c66b863.jpg</td>\n",
       "      <td>rust frog_eye_leaf_spot</td>\n",
       "    </tr>\n",
       "    <tr>\n",
       "      <th>1</th>\n",
       "      <td>ad8770db05586b59.jpg</td>\n",
       "      <td>rust frog_eye_leaf_spot</td>\n",
       "    </tr>\n",
       "    <tr>\n",
       "      <th>2</th>\n",
       "      <td>c7b03e718489f3ca.jpg</td>\n",
       "      <td>rust frog_eye_leaf_spot</td>\n",
       "    </tr>\n",
       "  </tbody>\n",
       "</table>\n",
       "</div>"
      ],
      "text/plain": [
       "                  image                   labels\n",
       "0  85f8cb619c66b863.jpg  rust frog_eye_leaf_spot\n",
       "1  ad8770db05586b59.jpg  rust frog_eye_leaf_spot\n",
       "2  c7b03e718489f3ca.jpg  rust frog_eye_leaf_spot"
      ]
     },
     "execution_count": 16,
     "metadata": {},
     "output_type": "execute_result"
    }
   ],
   "source": [
    "sub = pd.read_csv('./submission.csv')\n",
    "sub"
   ]
  }
 ],
 "metadata": {
  "kernelspec": {
   "display_name": "Python 3",
   "language": "python",
   "name": "python3"
  },
  "language_info": {
   "codemirror_mode": {
    "name": "ipython",
    "version": 3
   },
   "file_extension": ".py",
   "mimetype": "text/x-python",
   "name": "python",
   "nbconvert_exporter": "python",
   "pygments_lexer": "ipython3",
   "version": "3.7.10"
  },
  "papermill": {
   "default_parameters": {},
   "duration": 23.671123,
   "end_time": "2021-07-14T11:11:17.351463",
   "environment_variables": {},
   "exception": null,
   "input_path": "__notebook__.ipynb",
   "output_path": "__notebook__.ipynb",
   "parameters": {},
   "start_time": "2021-07-14T11:10:53.680340",
   "version": "2.3.3"
  }
 },
 "nbformat": 4,
 "nbformat_minor": 5
}
