{
 "cells": [
  {
   "cell_type": "markdown",
   "id": "24b19dc1",
   "metadata": {
    "papermill": {
     "duration": 0.015041,
     "end_time": "2021-11-11T02:01:27.760569",
     "exception": false,
     "start_time": "2021-11-11T02:01:27.745528",
     "status": "completed"
    },
    "tags": []
   },
   "source": [
    "# Import Libraries"
   ]
  },
  {
   "cell_type": "code",
   "execution_count": 1,
   "id": "94e10ca9",
   "metadata": {
    "execution": {
     "iopub.execute_input": "2021-11-11T02:01:27.802121Z",
     "iopub.status.busy": "2021-11-11T02:01:27.801226Z",
     "iopub.status.idle": "2021-11-11T02:01:36.583210Z",
     "shell.execute_reply": "2021-11-11T02:01:36.582337Z",
     "shell.execute_reply.started": "2021-10-30T23:08:47.258396Z"
    },
    "papermill": {
     "duration": 8.808509,
     "end_time": "2021-11-11T02:01:36.583374",
     "exception": false,
     "start_time": "2021-11-11T02:01:27.774865",
     "status": "completed"
    },
    "tags": []
   },
   "outputs": [],
   "source": [
    "import os\n",
    "import sys\n",
    "sys.path.append('../input/timm-pytorch-image-models/pytorch-image-models-master')\n",
    "\n",
    "import matplotlib.pyplot as plt\n",
    "import random\n",
    "import copy\n",
    "import numpy as np\n",
    "import pandas as pd\n",
    "from sklearn.model_selection import StratifiedKFold, GroupKFold, KFold\n",
    "from sklearn.preprocessing import LabelEncoder\n",
    "\n",
    "from sklearn.metrics import f1_score, accuracy_score\n",
    "from collections import defaultdict\n",
    "\n",
    "import torch\n",
    "import torch.nn as nn\n",
    "import torch.optim as optim\n",
    "from torch.optim import lr_scheduler\n",
    "import torch.nn.functional as F\n",
    "from torch.optim import Adam, SGD\n",
    "import torchvision.models as models\n",
    "from torch.nn.parameter import Parameter\n",
    "from torch.utils.data import Dataset\n",
    "from torch.utils.data import DataLoader\n",
    "from torchvision import transforms\n",
    "import torchvision.transforms.functional as TF\n",
    "#from efficientnet_pytorch import model as enet\n",
    "\n",
    "import cv2\n",
    "import timm\n",
    "\n",
    "from tqdm import tqdm\n",
    "from tqdm.notebook import tqdm\n",
    "\n",
    "import albumentations as A\n",
    "from albumentations import (\n",
    "    Compose, OneOf, Normalize, CenterCrop, Resize, RandomResizedCrop, RandomCrop, HorizontalFlip, VerticalFlip, \n",
    "    RandomBrightness, RandomContrast, RandomBrightnessContrast, RandomRotate90, ShiftScaleRotate, Cutout, \n",
    "    IAAAdditiveGaussianNoise, Transpose, HueSaturationValue, CoarseDropout\n",
    "    )\n",
    "from albumentations.pytorch import ToTensorV2\n",
    "\n",
    "import warnings\n",
    "warnings.filterwarnings(\"ignore\")\n",
    "\n",
    "import logging\n",
    "import time\n",
    "from contextlib import contextmanager"
   ]
  },
  {
   "cell_type": "markdown",
   "id": "dcb7988c",
   "metadata": {
    "papermill": {
     "duration": 0.012025,
     "end_time": "2021-11-11T02:01:36.608080",
     "exception": false,
     "start_time": "2021-11-11T02:01:36.596055",
     "status": "completed"
    },
    "tags": []
   },
   "source": [
    "# Config"
   ]
  },
  {
   "cell_type": "code",
   "execution_count": 2,
   "id": "abf06d8f",
   "metadata": {
    "execution": {
     "iopub.execute_input": "2021-11-11T02:01:36.682107Z",
     "iopub.status.busy": "2021-11-11T02:01:36.681331Z",
     "iopub.status.idle": "2021-11-11T02:01:36.684011Z",
     "shell.execute_reply": "2021-11-11T02:01:36.683529Z",
     "shell.execute_reply.started": "2021-10-30T23:08:52.446756Z"
    },
    "papermill": {
     "duration": 0.063971,
     "end_time": "2021-11-11T02:01:36.684138",
     "exception": false,
     "start_time": "2021-11-11T02:01:36.620167",
     "status": "completed"
    },
    "tags": []
   },
   "outputs": [],
   "source": [
    "class CFG:\n",
    "    DATA_PATH = '../input/plant-pathology-2021-fgvc8/'\n",
    "    TEST_PATH = DATA_PATH + 'test_images/'\n",
    "    TRAIN_PATH = DATA_PATH + 'train_images/'\n",
    "    TRAIN_CSV_PATH = DATA_PATH + 'train.csv'\n",
    "    SUB_CSV_PATH = DATA_PATH + 'sample_submission.csv'\n",
    "    \n",
    "    MODEL_ARCH ='vgg11'\n",
    "\n",
    "    IMG_SIZE = 224\n",
    "    EPOCH = 10\n",
    "    BATCH_SIZE = 32\n",
    "    TEST_SIZE = 0.2\n",
    "    RANDOM_STATE = 1234\n",
    "    LR = 1e-4\n",
    "    N_CLASS = 12\n",
    "    \n",
    "    DEVICE = torch.device(\"cuda\" if torch.cuda.is_available() else \"cpu\")\n",
    "    #LABELS = ['healthy','complex','rust','frog_eye_leaf_spot','powdery_mildew','scab']\n",
    "    \n",
    "    LABELS_DICT = {\n",
    "    0: 'complex', \n",
    "    1: 'frog_eye_leaf_spot',\n",
    "    2: 'frog_eye_leaf_spot complex',\n",
    "    3: 'healthy',\n",
    "    4: 'powdery_mildew', \n",
    "    5: 'powdery_mildew complex',\n",
    "    6: 'rust',\n",
    "    7: 'rust complex',\n",
    "    8: 'rust frog_eye_leaf_spot',\n",
    "    9: 'scab',\n",
    "    10: 'scab frog_eye_leaf_spot',\n",
    "    11: 'scab frog_eye_leaf_spot complex'\n",
    "    }"
   ]
  },
  {
   "cell_type": "code",
   "execution_count": 3,
   "id": "fea32ff1",
   "metadata": {
    "execution": {
     "iopub.execute_input": "2021-11-11T02:01:36.713274Z",
     "iopub.status.busy": "2021-11-11T02:01:36.712659Z",
     "iopub.status.idle": "2021-11-11T02:01:36.763170Z",
     "shell.execute_reply": "2021-11-11T02:01:36.762420Z",
     "shell.execute_reply.started": "2021-10-30T23:08:52.498898Z"
    },
    "papermill": {
     "duration": 0.06681,
     "end_time": "2021-11-11T02:01:36.763288",
     "exception": false,
     "start_time": "2021-11-11T02:01:36.696478",
     "status": "completed"
    },
    "tags": []
   },
   "outputs": [],
   "source": [
    "train_df = pd.read_csv(CFG.TRAIN_CSV_PATH)\n",
    "sub_df = pd.read_csv(CFG.SUB_CSV_PATH)\n",
    "sub = pd.read_csv(CFG.SUB_CSV_PATH)"
   ]
  },
  {
   "cell_type": "markdown",
   "id": "6a913777",
   "metadata": {
    "papermill": {
     "duration": 0.01199,
     "end_time": "2021-11-11T02:01:36.787707",
     "exception": false,
     "start_time": "2021-11-11T02:01:36.775717",
     "status": "completed"
    },
    "tags": []
   },
   "source": [
    "# Seed"
   ]
  },
  {
   "cell_type": "code",
   "execution_count": 4,
   "id": "b9a3be27",
   "metadata": {
    "execution": {
     "iopub.execute_input": "2021-11-11T02:01:36.819626Z",
     "iopub.status.busy": "2021-11-11T02:01:36.818109Z",
     "iopub.status.idle": "2021-11-11T02:01:36.820286Z",
     "shell.execute_reply": "2021-11-11T02:01:36.820688Z",
     "shell.execute_reply.started": "2021-10-30T23:08:52.551209Z"
    },
    "papermill": {
     "duration": 0.021063,
     "end_time": "2021-11-11T02:01:36.820807",
     "exception": false,
     "start_time": "2021-11-11T02:01:36.799744",
     "status": "completed"
    },
    "tags": []
   },
   "outputs": [],
   "source": [
    "def seed_everything(seed=1234):\n",
    "    random.seed(seed)\n",
    "    os.environ['PYTHONHASHSEED'] = str(seed)\n",
    "    np.random.seed(seed)\n",
    "    torch.manual_seed(seed)\n",
    "    #torch.cuda.manual_seed(seed)\n",
    "    torch.backends.cudnn.deterministic = True\n",
    "\n",
    "@contextmanager\n",
    "def timer(name, logger=None, level=logging.DEBUG):\n",
    "    print_ = print if logger is None else lambda msg: logger.log(level, msg)\n",
    "    t0 = time.time()\n",
    "    print_(f'[{name}] start')\n",
    "    yield\n",
    "    print_(f'[{name}] done in {time.time() - t0:.0f} s')"
   ]
  },
  {
   "cell_type": "code",
   "execution_count": 5,
   "id": "36075995",
   "metadata": {
    "execution": {
     "iopub.execute_input": "2021-11-11T02:01:36.849211Z",
     "iopub.status.busy": "2021-11-11T02:01:36.848543Z",
     "iopub.status.idle": "2021-11-11T02:01:36.851354Z",
     "shell.execute_reply": "2021-11-11T02:01:36.850854Z",
     "shell.execute_reply.started": "2021-10-30T23:08:52.561179Z"
    },
    "papermill": {
     "duration": 0.018613,
     "end_time": "2021-11-11T02:01:36.851457",
     "exception": false,
     "start_time": "2021-11-11T02:01:36.832844",
     "status": "completed"
    },
    "tags": []
   },
   "outputs": [],
   "source": [
    "def to_numpy(tensor):\n",
    "    \"\"\"Auxiliary function to convert tensors into numpy arrays\n",
    "    \"\"\"\n",
    "    return tensor.detach().cpu().numpy() if tensor.requires_grad else tensor.cpu().numpy()\n"
   ]
  },
  {
   "cell_type": "markdown",
   "id": "22b78229",
   "metadata": {
    "papermill": {
     "duration": 0.012372,
     "end_time": "2021-11-11T02:01:36.875749",
     "exception": false,
     "start_time": "2021-11-11T02:01:36.863377",
     "status": "completed"
    },
    "tags": []
   },
   "source": [
    "# Dataset"
   ]
  },
  {
   "cell_type": "code",
   "execution_count": 6,
   "id": "17fb7253",
   "metadata": {
    "execution": {
     "iopub.execute_input": "2021-11-11T02:01:36.909457Z",
     "iopub.status.busy": "2021-11-11T02:01:36.908617Z",
     "iopub.status.idle": "2021-11-11T02:01:36.911147Z",
     "shell.execute_reply": "2021-11-11T02:01:36.910665Z",
     "shell.execute_reply.started": "2021-10-30T23:08:52.570246Z"
    },
    "papermill": {
     "duration": 0.022992,
     "end_time": "2021-11-11T02:01:36.911376",
     "exception": false,
     "start_time": "2021-11-11T02:01:36.888384",
     "status": "completed"
    },
    "tags": []
   },
   "outputs": [],
   "source": [
    "class TestDataset(Dataset):\n",
    "    def __init__(self, df, transform=None):\n",
    "        self.df = df\n",
    "        self.image_names = df['image'].values\n",
    "        self.labels = df['labels'].values\n",
    "        self.transform = transform\n",
    "\n",
    "    def __len__(self):\n",
    "        return len(self.df)\n",
    "\n",
    "    def __getitem__(self, idx):\n",
    "        image_name = self.image_names[idx]\n",
    "        label = self.labels[idx]\n",
    "        image_path = CFG.TEST_PATH + image_name\n",
    "        image = cv2.imread(image_path)\n",
    "        image = cv2.cvtColor(image, cv2.COLOR_BGR2RGB)\n",
    "        if self.transform:\n",
    "            augmented = self.transform(image=image)\n",
    "            image = augmented['image']\n",
    "        return image"
   ]
  },
  {
   "cell_type": "markdown",
   "id": "4d6c96d8",
   "metadata": {
    "papermill": {
     "duration": 0.014767,
     "end_time": "2021-11-11T02:01:36.938981",
     "exception": false,
     "start_time": "2021-11-11T02:01:36.924214",
     "status": "completed"
    },
    "tags": []
   },
   "source": [
    "# Transform"
   ]
  },
  {
   "cell_type": "code",
   "execution_count": 7,
   "id": "af1f44dd",
   "metadata": {
    "execution": {
     "iopub.execute_input": "2021-11-11T02:01:36.970332Z",
     "iopub.status.busy": "2021-11-11T02:01:36.969558Z",
     "iopub.status.idle": "2021-11-11T02:01:36.972046Z",
     "shell.execute_reply": "2021-11-11T02:01:36.971579Z",
     "shell.execute_reply.started": "2021-10-30T23:08:52.580453Z"
    },
    "papermill": {
     "duration": 0.020038,
     "end_time": "2021-11-11T02:01:36.972156",
     "exception": false,
     "start_time": "2021-11-11T02:01:36.952118",
     "status": "completed"
    },
    "tags": []
   },
   "outputs": [],
   "source": [
    "def get_transforms(data):\n",
    "    \n",
    "    if data == 'train':\n",
    "        return Compose([\n",
    "            A.Resize(CFG.IMG_SIZE, CFG.IMG_SIZE),\n",
    "            #A.RandomResizedCrop(CFG.IMG_SIZE, CFG.IMG_SIZE),\n",
    "            A.HorizontalFlip(p=0.5),\n",
    "            A.ShiftScaleRotate(p=0.5),\n",
    "            A.RandomBrightnessContrast(p=0.5),\n",
    "\n",
    "            A.Normalize(),\n",
    "            ToTensorV2(),\n",
    "        ])\n",
    "    elif data == 'valid':\n",
    "        return Compose([\n",
    "            Resize(CFG.IMG_SIZE, CFG.IMG_SIZE),\n",
    "            Normalize(),\n",
    "            ToTensorV2(),\n",
    "        ])"
   ]
  },
  {
   "cell_type": "code",
   "execution_count": 8,
   "id": "f760b182",
   "metadata": {
    "execution": {
     "iopub.execute_input": "2021-11-11T02:01:37.005801Z",
     "iopub.status.busy": "2021-11-11T02:01:37.005026Z",
     "iopub.status.idle": "2021-11-11T02:01:37.007435Z",
     "shell.execute_reply": "2021-11-11T02:01:37.007007Z",
     "shell.execute_reply.started": "2021-10-30T23:08:52.594272Z"
    },
    "papermill": {
     "duration": 0.023253,
     "end_time": "2021-11-11T02:01:37.007533",
     "exception": false,
     "start_time": "2021-11-11T02:01:36.984280",
     "status": "completed"
    },
    "tags": []
   },
   "outputs": [],
   "source": [
    "test_dataset = TestDataset(sub_df, transform = get_transforms(data='valid'))\n",
    "test_loader = DataLoader(test_dataset, batch_size = 32, shuffle = False)"
   ]
  },
  {
   "cell_type": "code",
   "execution_count": 9,
   "id": "22d1517b",
   "metadata": {
    "execution": {
     "iopub.execute_input": "2021-11-11T02:01:37.035191Z",
     "iopub.status.busy": "2021-11-11T02:01:37.034568Z",
     "iopub.status.idle": "2021-11-11T02:01:37.370462Z",
     "shell.execute_reply": "2021-11-11T02:01:37.370991Z",
     "shell.execute_reply.started": "2021-10-30T23:08:52.605867Z"
    },
    "papermill": {
     "duration": 0.351695,
     "end_time": "2021-11-11T02:01:37.371145",
     "exception": false,
     "start_time": "2021-11-11T02:01:37.019450",
     "status": "completed"
    },
    "tags": []
   },
   "outputs": [
    {
     "data": {
      "text/plain": [
       "tensor([[[ 1.2214,  1.1358,  1.0673,  ..., -0.7479, -1.1932, -1.1247],\n",
       "         [ 1.2557,  1.2214,  1.1872,  ..., -0.2513, -0.7137, -0.5082],\n",
       "         [ 1.3242,  1.3070,  1.2557,  ...,  0.3994,  0.2111,  0.1254],\n",
       "         ...,\n",
       "         [-1.5699, -1.5185, -1.4672,  ...,  1.1015,  1.1187,  1.3242],\n",
       "         [-1.5699, -1.5699, -1.4843,  ...,  1.1529,  1.0673,  1.3070],\n",
       "         [-1.5870, -1.5357, -1.5870,  ...,  0.9646,  1.0502,  1.3413]],\n",
       "\n",
       "        [[ 1.6057,  1.6057,  1.5882,  ..., -0.2150, -0.6702, -0.6352],\n",
       "         [ 1.6933,  1.6408,  1.6583,  ...,  0.2227, -0.1800, -0.1450],\n",
       "         [ 1.7108,  1.7458,  1.6758,  ...,  0.7829,  0.5728,  0.5028],\n",
       "         ...,\n",
       "         [-1.0728, -1.0203, -1.0203,  ...,  0.9580,  1.0280,  1.2031],\n",
       "         [-1.0378, -1.0378, -1.0728,  ...,  0.9755,  0.9580,  1.2206],\n",
       "         [-1.0903, -1.0378, -1.1779,  ...,  0.8004,  0.9055,  1.1856]],\n",
       "\n",
       "        [[ 1.6465,  1.6117,  1.5420,  ..., -0.6715, -1.0201, -1.0898],\n",
       "         [ 1.7337,  1.7337,  1.6291,  ..., -0.2358, -0.5495, -0.5495],\n",
       "         [ 1.7685,  1.7685,  1.7163,  ...,  0.3568,  0.3045,  0.0953],\n",
       "         ...,\n",
       "         [-1.3339, -1.2816, -1.2641,  ...,  0.9668,  1.0539,  1.1934],\n",
       "         [-1.3164, -1.3164, -1.2990,  ...,  1.0714,  1.0539,  1.2108],\n",
       "         [-1.3513, -1.2990, -1.3687,  ...,  0.9842,  0.9842,  1.1934]]])"
      ]
     },
     "execution_count": 9,
     "metadata": {},
     "output_type": "execute_result"
    }
   ],
   "source": [
    "test_dataset[0]"
   ]
  },
  {
   "cell_type": "markdown",
   "id": "2e5a6016",
   "metadata": {
    "papermill": {
     "duration": 0.012138,
     "end_time": "2021-11-11T02:01:37.395846",
     "exception": false,
     "start_time": "2021-11-11T02:01:37.383708",
     "status": "completed"
    },
    "tags": []
   },
   "source": [
    "# Create model"
   ]
  },
  {
   "cell_type": "code",
   "execution_count": 10,
   "id": "d3b0ab64",
   "metadata": {
    "execution": {
     "iopub.execute_input": "2021-11-11T02:01:37.428859Z",
     "iopub.status.busy": "2021-11-11T02:01:37.428290Z",
     "iopub.status.idle": "2021-11-11T02:01:49.453679Z",
     "shell.execute_reply": "2021-11-11T02:01:49.453229Z",
     "shell.execute_reply.started": "2021-10-30T23:08:52.937264Z"
    },
    "papermill": {
     "duration": 12.045693,
     "end_time": "2021-11-11T02:01:49.453802",
     "exception": false,
     "start_time": "2021-11-11T02:01:37.408109",
     "status": "completed"
    },
    "tags": []
   },
   "outputs": [
    {
     "data": {
      "text/plain": [
       "<All keys matched successfully>"
      ]
     },
     "execution_count": 10,
     "metadata": {},
     "output_type": "execute_result"
    }
   ],
   "source": [
    "class VGG(nn.Module):\n",
    "    \"\"\"\n",
    "        Base class for all neural network modules.\n",
    "        Your models should also subclass this class.\n",
    "        Modules can also contain other Modules, allowing to nest them in a tree structure.\n",
    "        You can assign the submodules as regular attributes:\n",
    "    \"\"\"\n",
    "    def __init__(self):\n",
    "        super(VGG, self).__init__()\n",
    "        self.vgg = timm.create_model(model_name = CFG.MODEL_ARCH,pretrained = False)\n",
    "        in_features = self.vgg.head.fc.in_features\n",
    "        self.vgg.head.fc = nn.Linear(in_features, CFG.N_CLASS)#(input_size,output_size)\n",
    "        \n",
    "    def forward(self, x):\n",
    "        x = self.vgg(x)\n",
    "        return x\n",
    "    \n",
    "model = VGG()\n",
    "\n",
    "model.load_state_dict(torch.load(\"../input/my-vgg/vgg_model.pt\"))"
   ]
  },
  {
   "cell_type": "markdown",
   "id": "39b7eee1",
   "metadata": {
    "papermill": {
     "duration": 0.012864,
     "end_time": "2021-11-11T02:01:49.479365",
     "exception": false,
     "start_time": "2021-11-11T02:01:49.466501",
     "status": "completed"
    },
    "tags": []
   },
   "source": [
    "# Prediction"
   ]
  },
  {
   "cell_type": "code",
   "execution_count": 11,
   "id": "efda08ad",
   "metadata": {
    "execution": {
     "iopub.execute_input": "2021-11-11T02:01:49.510190Z",
     "iopub.status.busy": "2021-11-11T02:01:49.509528Z",
     "iopub.status.idle": "2021-11-11T02:01:55.842772Z",
     "shell.execute_reply": "2021-11-11T02:01:55.843226Z",
     "shell.execute_reply.started": "2021-10-30T23:09:05.188418Z"
    },
    "papermill": {
     "duration": 6.351356,
     "end_time": "2021-11-11T02:01:55.843380",
     "exception": false,
     "start_time": "2021-11-11T02:01:49.492024",
     "status": "completed"
    },
    "tags": []
   },
   "outputs": [
    {
     "data": {
      "text/plain": [
       "(tensor([[  3.7040,  -3.9644,  -2.3690,  -4.3378,  -3.7156,  -3.4368,  -2.8898,\n",
       "           -5.1783,  -6.3375,   5.9146,   2.2965,  -0.4621],\n",
       "         [  6.1834,  -3.1023,   3.6206, -11.6957,  -8.3832,  -4.5229,  -6.4969,\n",
       "           -3.7073,  -4.7087,  -1.6921,   5.7045,   4.3569],\n",
       "         [  2.6191,   3.9252,   1.3964,  -5.4317,  -5.8872,  -5.8168,  -1.3504,\n",
       "           -3.5533,  -1.2521,  -3.0800,   2.2690,  -0.4622]], device='cuda:0'),\n",
       " array([9, 0, 1]))"
      ]
     },
     "execution_count": 11,
     "metadata": {},
     "output_type": "execute_result"
    }
   ],
   "source": [
    "#model.cuda()\n",
    "model.eval()\n",
    "\n",
    "predictions = []\n",
    "for inputs in test_loader:\n",
    "    inputs = inputs.to(CFG.DEVICE)\n",
    "    with torch.no_grad():\n",
    "        model = model.to(CFG.DEVICE)\n",
    "        outputs = model(inputs)\n",
    "        preds = outputs.argmax(1).detach().cpu().numpy()\n",
    "        predictions.append(preds)\n",
    "outputs,preds"
   ]
  },
  {
   "cell_type": "markdown",
   "id": "3959a148",
   "metadata": {
    "papermill": {
     "duration": 0.012815,
     "end_time": "2021-11-11T02:01:55.869281",
     "exception": false,
     "start_time": "2021-11-11T02:01:55.856466",
     "status": "completed"
    },
    "tags": []
   },
   "source": [
    "# Submission"
   ]
  },
  {
   "cell_type": "code",
   "execution_count": 12,
   "id": "57686630",
   "metadata": {
    "execution": {
     "iopub.execute_input": "2021-11-11T02:01:55.900510Z",
     "iopub.status.busy": "2021-11-11T02:01:55.899714Z",
     "iopub.status.idle": "2021-11-11T02:01:55.913551Z",
     "shell.execute_reply": "2021-11-11T02:01:55.913141Z",
     "shell.execute_reply.started": "2021-10-30T23:09:06.697433Z"
    },
    "papermill": {
     "duration": 0.031518,
     "end_time": "2021-11-11T02:01:55.913657",
     "exception": false,
     "start_time": "2021-11-11T02:01:55.882139",
     "status": "completed"
    },
    "tags": []
   },
   "outputs": [
    {
     "data": {
      "text/html": [
       "<div>\n",
       "<style scoped>\n",
       "    .dataframe tbody tr th:only-of-type {\n",
       "        vertical-align: middle;\n",
       "    }\n",
       "\n",
       "    .dataframe tbody tr th {\n",
       "        vertical-align: top;\n",
       "    }\n",
       "\n",
       "    .dataframe thead th {\n",
       "        text-align: right;\n",
       "    }\n",
       "</style>\n",
       "<table border=\"1\" class=\"dataframe\">\n",
       "  <thead>\n",
       "    <tr style=\"text-align: right;\">\n",
       "      <th></th>\n",
       "      <th>image</th>\n",
       "      <th>labels</th>\n",
       "    </tr>\n",
       "  </thead>\n",
       "  <tbody>\n",
       "    <tr>\n",
       "      <th>0</th>\n",
       "      <td>85f8cb619c66b863.jpg</td>\n",
       "      <td>scab</td>\n",
       "    </tr>\n",
       "    <tr>\n",
       "      <th>1</th>\n",
       "      <td>ad8770db05586b59.jpg</td>\n",
       "      <td>complex</td>\n",
       "    </tr>\n",
       "    <tr>\n",
       "      <th>2</th>\n",
       "      <td>c7b03e718489f3ca.jpg</td>\n",
       "      <td>frog_eye_leaf_spot</td>\n",
       "    </tr>\n",
       "  </tbody>\n",
       "</table>\n",
       "</div>"
      ],
      "text/plain": [
       "                  image              labels\n",
       "0  85f8cb619c66b863.jpg                scab\n",
       "1  ad8770db05586b59.jpg             complex\n",
       "2  c7b03e718489f3ca.jpg  frog_eye_leaf_spot"
      ]
     },
     "execution_count": 12,
     "metadata": {},
     "output_type": "execute_result"
    }
   ],
   "source": [
    "sub['labels'] = np.concatenate(predictions)\n",
    "sub = sub.replace({\"labels\": CFG.LABELS_DICT})\n",
    "sub.to_csv('submission.csv', index=False)\n",
    "sub.head()"
   ]
  }
 ],
 "metadata": {
  "kernelspec": {
   "display_name": "Python 3",
   "language": "python",
   "name": "python3"
  },
  "language_info": {
   "codemirror_mode": {
    "name": "ipython",
    "version": 3
   },
   "file_extension": ".py",
   "mimetype": "text/x-python",
   "name": "python",
   "nbconvert_exporter": "python",
   "pygments_lexer": "ipython3",
   "version": "3.7.10"
  },
  "papermill": {
   "default_parameters": {},
   "duration": 39.325431,
   "end_time": "2021-11-11T02:01:59.585438",
   "environment_variables": {},
   "exception": null,
   "input_path": "__notebook__.ipynb",
   "output_path": "__notebook__.ipynb",
   "parameters": {},
   "start_time": "2021-11-11T02:01:20.260007",
   "version": "2.3.3"
  }
 },
 "nbformat": 4,
 "nbformat_minor": 5
}
