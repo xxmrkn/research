{
 "cells": [
  {
   "cell_type": "markdown",
   "id": "f574b4de",
   "metadata": {
    "papermill": {
     "duration": 0.018362,
     "end_time": "2021-12-20T08:48:51.645522",
     "exception": false,
     "start_time": "2021-12-20T08:48:51.627160",
     "status": "completed"
    },
    "tags": []
   },
   "source": [
    "# Import Libraries"
   ]
  },
  {
   "cell_type": "code",
   "execution_count": 1,
   "id": "81e40d22",
   "metadata": {
    "execution": {
     "iopub.execute_input": "2021-12-20T08:48:51.694353Z",
     "iopub.status.busy": "2021-12-20T08:48:51.693482Z",
     "iopub.status.idle": "2021-12-20T08:49:00.634699Z",
     "shell.execute_reply": "2021-12-20T08:49:00.633972Z",
     "shell.execute_reply.started": "2021-12-20T08:47:42.134174Z"
    },
    "papermill": {
     "duration": 8.973057,
     "end_time": "2021-12-20T08:49:00.634874",
     "exception": false,
     "start_time": "2021-12-20T08:48:51.661817",
     "status": "completed"
    },
    "tags": []
   },
   "outputs": [],
   "source": [
    "import os\n",
    "import sys\n",
    "sys.path.append('../input/timm-pytorch-image-models/pytorch-image-models-master')\n",
    "\n",
    "import matplotlib.pyplot as plt\n",
    "import random\n",
    "import copy\n",
    "import numpy as np\n",
    "import pandas as pd\n",
    "from sklearn.model_selection import StratifiedKFold, GroupKFold, KFold\n",
    "from sklearn.preprocessing import LabelEncoder\n",
    "\n",
    "from sklearn.metrics import f1_score, accuracy_score\n",
    "from collections import defaultdict\n",
    "\n",
    "import torch\n",
    "import torch.nn as nn\n",
    "import torch.optim as optim\n",
    "from torch.optim import lr_scheduler\n",
    "import torch.nn.functional as F\n",
    "from torch.optim import Adam, SGD\n",
    "import torchvision.models as models\n",
    "from torch.nn.parameter import Parameter\n",
    "from torch.utils.data import Dataset\n",
    "from torch.utils.data import DataLoader\n",
    "from torchvision import transforms\n",
    "import torchvision.transforms.functional as TF\n",
    "#from efficientnet_pytorch import model as enet\n",
    "\n",
    "import cv2\n",
    "import timm\n",
    "\n",
    "from tqdm import tqdm\n",
    "from tqdm.notebook import tqdm\n",
    "\n",
    "import albumentations as A\n",
    "from albumentations import (\n",
    "    Compose, OneOf, Normalize, CenterCrop, Resize, RandomResizedCrop, RandomCrop, HorizontalFlip, VerticalFlip, \n",
    "    RandomBrightness, RandomContrast, RandomBrightnessContrast, RandomRotate90, ShiftScaleRotate, Cutout, \n",
    "    IAAAdditiveGaussianNoise, Transpose, HueSaturationValue, CoarseDropout, GridDistortion,GridDropout,RandomRain\n",
    "    )\n",
    "from albumentations.pytorch import ToTensorV2\n",
    "\n",
    "import warnings\n",
    "warnings.filterwarnings(\"ignore\")\n",
    "\n",
    "import logging\n",
    "import time\n",
    "from contextlib import contextmanager"
   ]
  },
  {
   "cell_type": "markdown",
   "id": "986c527d",
   "metadata": {
    "papermill": {
     "duration": 0.015926,
     "end_time": "2021-12-20T08:49:00.667334",
     "exception": false,
     "start_time": "2021-12-20T08:49:00.651408",
     "status": "completed"
    },
    "tags": []
   },
   "source": [
    "# Config"
   ]
  },
  {
   "cell_type": "code",
   "execution_count": 2,
   "id": "32f482c5",
   "metadata": {
    "execution": {
     "iopub.execute_input": "2021-12-20T08:49:00.754097Z",
     "iopub.status.busy": "2021-12-20T08:49:00.753450Z",
     "iopub.status.idle": "2021-12-20T08:49:00.757309Z",
     "shell.execute_reply": "2021-12-20T08:49:00.756705Z",
     "shell.execute_reply.started": "2021-12-20T08:47:42.147190Z"
    },
    "papermill": {
     "duration": 0.074483,
     "end_time": "2021-12-20T08:49:00.757445",
     "exception": false,
     "start_time": "2021-12-20T08:49:00.682962",
     "status": "completed"
    },
    "tags": []
   },
   "outputs": [],
   "source": [
    "class CFG:\n",
    "    DATA_PATH = '../input/plant-pathology-2021-fgvc8/'\n",
    "    TEST_PATH = DATA_PATH + 'test_images/'\n",
    "    TRAIN_PATH = DATA_PATH + 'train_images/'\n",
    "    TRAIN_CSV_PATH = DATA_PATH + 'train.csv'\n",
    "    SUB_CSV_PATH = DATA_PATH + 'sample_submission.csv'\n",
    "    \n",
    "    #MODEL_ARCH ='vit_base_patch16_224'\n",
    "    MODEL_ARCH ='vit_base_patch16_224_in21k'\n",
    "\n",
    "    IMG_SIZE = 224\n",
    "    EPOCH = 10\n",
    "    BATCH_SIZE = 32\n",
    "    TEST_SIZE = 0.2\n",
    "    RANDOM_STATE = 1234\n",
    "    LR = 1e-4\n",
    "    N_CLASS = 12\n",
    "    DEVICE = torch.device(\"cuda\" if torch.cuda.is_available() else \"cpu\")\n",
    "\n",
    "    LABELS = ['healthy','complex','rust','frog_eye_leaf_spot','powdery_mildew','scab']\n",
    "    \n",
    "    LABELS_DICT = {\n",
    "    0: 'complex', \n",
    "    1: 'frog_eye_leaf_spot',\n",
    "    2: 'frog_eye_leaf_spot complex',\n",
    "    3: 'healthy',\n",
    "    4: 'powdery_mildew', \n",
    "    5: 'powdery_mildew complex',\n",
    "    6: 'rust',\n",
    "    7: 'rust complex',\n",
    "    8: 'rust frog_eye_leaf_spot',\n",
    "    9: 'scab',\n",
    "    10: 'scab frog_eye_leaf_spot',\n",
    "    11: 'scab frog_eye_leaf_spot complex'\n",
    "    }"
   ]
  },
  {
   "cell_type": "code",
   "execution_count": 3,
   "id": "e4d0fefb",
   "metadata": {
    "execution": {
     "iopub.execute_input": "2021-12-20T08:49:00.792918Z",
     "iopub.status.busy": "2021-12-20T08:49:00.792412Z",
     "iopub.status.idle": "2021-12-20T08:49:00.838059Z",
     "shell.execute_reply": "2021-12-20T08:49:00.837585Z",
     "shell.execute_reply.started": "2021-12-20T08:47:42.161527Z"
    },
    "papermill": {
     "duration": 0.064928,
     "end_time": "2021-12-20T08:49:00.838178",
     "exception": false,
     "start_time": "2021-12-20T08:49:00.773250",
     "status": "completed"
    },
    "tags": []
   },
   "outputs": [],
   "source": [
    "train_df = pd.read_csv(CFG.TRAIN_CSV_PATH)\n",
    "sub_df = pd.read_csv(CFG.SUB_CSV_PATH)\n",
    "sub = pd.read_csv(CFG.SUB_CSV_PATH)"
   ]
  },
  {
   "cell_type": "code",
   "execution_count": 4,
   "id": "9f86451d",
   "metadata": {
    "execution": {
     "iopub.execute_input": "2021-12-20T08:49:00.878163Z",
     "iopub.status.busy": "2021-12-20T08:49:00.877600Z",
     "iopub.status.idle": "2021-12-20T08:49:00.888457Z",
     "shell.execute_reply": "2021-12-20T08:49:00.888870Z",
     "shell.execute_reply.started": "2021-12-20T08:47:42.196375Z"
    },
    "papermill": {
     "duration": 0.035424,
     "end_time": "2021-12-20T08:49:00.888995",
     "exception": false,
     "start_time": "2021-12-20T08:49:00.853571",
     "status": "completed"
    },
    "tags": []
   },
   "outputs": [
    {
     "data": {
      "text/html": [
       "<div>\n",
       "<style scoped>\n",
       "    .dataframe tbody tr th:only-of-type {\n",
       "        vertical-align: middle;\n",
       "    }\n",
       "\n",
       "    .dataframe tbody tr th {\n",
       "        vertical-align: top;\n",
       "    }\n",
       "\n",
       "    .dataframe thead th {\n",
       "        text-align: right;\n",
       "    }\n",
       "</style>\n",
       "<table border=\"1\" class=\"dataframe\">\n",
       "  <thead>\n",
       "    <tr style=\"text-align: right;\">\n",
       "      <th></th>\n",
       "      <th>image</th>\n",
       "      <th>labels</th>\n",
       "    </tr>\n",
       "  </thead>\n",
       "  <tbody>\n",
       "    <tr>\n",
       "      <th>0</th>\n",
       "      <td>800113bb65efe69e.jpg</td>\n",
       "      <td>healthy</td>\n",
       "    </tr>\n",
       "    <tr>\n",
       "      <th>1</th>\n",
       "      <td>8002cb321f8bfcdf.jpg</td>\n",
       "      <td>scab frog_eye_leaf_spot complex</td>\n",
       "    </tr>\n",
       "    <tr>\n",
       "      <th>2</th>\n",
       "      <td>80070f7fb5e2ccaa.jpg</td>\n",
       "      <td>scab</td>\n",
       "    </tr>\n",
       "    <tr>\n",
       "      <th>3</th>\n",
       "      <td>80077517781fb94f.jpg</td>\n",
       "      <td>scab</td>\n",
       "    </tr>\n",
       "    <tr>\n",
       "      <th>4</th>\n",
       "      <td>800cbf0ff87721f8.jpg</td>\n",
       "      <td>complex</td>\n",
       "    </tr>\n",
       "    <tr>\n",
       "      <th>...</th>\n",
       "      <td>...</td>\n",
       "      <td>...</td>\n",
       "    </tr>\n",
       "    <tr>\n",
       "      <th>18627</th>\n",
       "      <td>fffb900a92289a33.jpg</td>\n",
       "      <td>healthy</td>\n",
       "    </tr>\n",
       "    <tr>\n",
       "      <th>18628</th>\n",
       "      <td>fffc488fa4c0e80c.jpg</td>\n",
       "      <td>scab</td>\n",
       "    </tr>\n",
       "    <tr>\n",
       "      <th>18629</th>\n",
       "      <td>fffc94e092a59086.jpg</td>\n",
       "      <td>rust</td>\n",
       "    </tr>\n",
       "    <tr>\n",
       "      <th>18630</th>\n",
       "      <td>fffe105cf6808292.jpg</td>\n",
       "      <td>scab frog_eye_leaf_spot</td>\n",
       "    </tr>\n",
       "    <tr>\n",
       "      <th>18631</th>\n",
       "      <td>fffe472a0001bd25.jpg</td>\n",
       "      <td>healthy</td>\n",
       "    </tr>\n",
       "  </tbody>\n",
       "</table>\n",
       "<p>18632 rows × 2 columns</p>\n",
       "</div>"
      ],
      "text/plain": [
       "                      image                           labels\n",
       "0      800113bb65efe69e.jpg                          healthy\n",
       "1      8002cb321f8bfcdf.jpg  scab frog_eye_leaf_spot complex\n",
       "2      80070f7fb5e2ccaa.jpg                             scab\n",
       "3      80077517781fb94f.jpg                             scab\n",
       "4      800cbf0ff87721f8.jpg                          complex\n",
       "...                     ...                              ...\n",
       "18627  fffb900a92289a33.jpg                          healthy\n",
       "18628  fffc488fa4c0e80c.jpg                             scab\n",
       "18629  fffc94e092a59086.jpg                             rust\n",
       "18630  fffe105cf6808292.jpg          scab frog_eye_leaf_spot\n",
       "18631  fffe472a0001bd25.jpg                          healthy\n",
       "\n",
       "[18632 rows x 2 columns]"
      ]
     },
     "execution_count": 4,
     "metadata": {},
     "output_type": "execute_result"
    }
   ],
   "source": [
    "train_df"
   ]
  },
  {
   "cell_type": "markdown",
   "id": "1d2ce7cc",
   "metadata": {
    "papermill": {
     "duration": 0.015268,
     "end_time": "2021-12-20T08:49:00.919804",
     "exception": false,
     "start_time": "2021-12-20T08:49:00.904536",
     "status": "completed"
    },
    "tags": []
   },
   "source": [
    "# Seed"
   ]
  },
  {
   "cell_type": "code",
   "execution_count": 5,
   "id": "aaf397b5",
   "metadata": {
    "execution": {
     "iopub.execute_input": "2021-12-20T08:49:00.953738Z",
     "iopub.status.busy": "2021-12-20T08:49:00.952906Z",
     "iopub.status.idle": "2021-12-20T08:49:00.959627Z",
     "shell.execute_reply": "2021-12-20T08:49:00.959158Z",
     "shell.execute_reply.started": "2021-12-20T08:47:42.210501Z"
    },
    "papermill": {
     "duration": 0.024618,
     "end_time": "2021-12-20T08:49:00.959729",
     "exception": false,
     "start_time": "2021-12-20T08:49:00.935111",
     "status": "completed"
    },
    "tags": []
   },
   "outputs": [],
   "source": [
    "def seed_everything(seed=1234):\n",
    "    random.seed(seed)\n",
    "    os.environ['PYTHONHASHSEED'] = str(seed)\n",
    "    np.random.seed(seed)\n",
    "    torch.manual_seed(seed)\n",
    "    #torch.cuda.manual_seed(seed)\n",
    "    torch.backends.cudnn.deterministic = True\n",
    "\n",
    "@contextmanager\n",
    "def timer(name, logger=None, level=logging.DEBUG):\n",
    "    print_ = print if logger is None else lambda msg: logger.log(level, msg)\n",
    "    t0 = time.time()\n",
    "    print_(f'[{name}] start')\n",
    "    yield\n",
    "    print_(f'[{name}] done in {time.time() - t0:.0f} s')"
   ]
  },
  {
   "cell_type": "code",
   "execution_count": 6,
   "id": "c0909f32",
   "metadata": {
    "execution": {
     "iopub.execute_input": "2021-12-20T08:49:00.995062Z",
     "iopub.status.busy": "2021-12-20T08:49:00.994266Z",
     "iopub.status.idle": "2021-12-20T08:49:00.996267Z",
     "shell.execute_reply": "2021-12-20T08:49:00.996675Z",
     "shell.execute_reply.started": "2021-12-20T08:47:42.218840Z"
    },
    "papermill": {
     "duration": 0.02158,
     "end_time": "2021-12-20T08:49:00.996804",
     "exception": false,
     "start_time": "2021-12-20T08:49:00.975224",
     "status": "completed"
    },
    "tags": []
   },
   "outputs": [],
   "source": [
    "def to_numpy(tensor):\n",
    "    \"\"\"Auxiliary function to convert tensors into numpy arrays\n",
    "    \"\"\"\n",
    "    return tensor.detach().cpu().numpy() if tensor.requires_grad else tensor.cpu().numpy()\n"
   ]
  },
  {
   "cell_type": "markdown",
   "id": "18ee08cc",
   "metadata": {
    "papermill": {
     "duration": 0.015427,
     "end_time": "2021-12-20T08:49:01.027528",
     "exception": false,
     "start_time": "2021-12-20T08:49:01.012101",
     "status": "completed"
    },
    "tags": []
   },
   "source": [
    "# Dataset"
   ]
  },
  {
   "cell_type": "code",
   "execution_count": 7,
   "id": "42511ecb",
   "metadata": {
    "execution": {
     "iopub.execute_input": "2021-12-20T08:49:01.066650Z",
     "iopub.status.busy": "2021-12-20T08:49:01.065833Z",
     "iopub.status.idle": "2021-12-20T08:49:01.067648Z",
     "shell.execute_reply": "2021-12-20T08:49:01.068080Z",
     "shell.execute_reply.started": "2021-12-20T08:47:42.228516Z"
    },
    "papermill": {
     "duration": 0.024989,
     "end_time": "2021-12-20T08:49:01.068209",
     "exception": false,
     "start_time": "2021-12-20T08:49:01.043220",
     "status": "completed"
    },
    "tags": []
   },
   "outputs": [],
   "source": [
    "class TestDataset(Dataset):\n",
    "    def __init__(self, df, transform=None):\n",
    "        self.df = df\n",
    "        self.image_names = df['image'].values\n",
    "        self.labels = df['labels'].values\n",
    "        self.transform = transform\n",
    "\n",
    "    def __len__(self):\n",
    "        return len(self.df)\n",
    "\n",
    "    def __getitem__(self, idx):\n",
    "        image_name = self.image_names[idx]\n",
    "        label = self.labels[idx]\n",
    "        image_path = CFG.TEST_PATH + image_name\n",
    "        image = cv2.imread(image_path)\n",
    "        image = cv2.cvtColor(image, cv2.COLOR_BGR2RGB)\n",
    "        if self.transform:\n",
    "            augmented = self.transform(image=image)\n",
    "            image = augmented['image']\n",
    "        return image"
   ]
  },
  {
   "cell_type": "markdown",
   "id": "f7095dca",
   "metadata": {
    "papermill": {
     "duration": 0.015079,
     "end_time": "2021-12-20T08:49:01.098728",
     "exception": false,
     "start_time": "2021-12-20T08:49:01.083649",
     "status": "completed"
    },
    "tags": []
   },
   "source": [
    "# Transform"
   ]
  },
  {
   "cell_type": "code",
   "execution_count": 8,
   "id": "f0ccbe56",
   "metadata": {
    "execution": {
     "iopub.execute_input": "2021-12-20T08:49:01.136704Z",
     "iopub.status.busy": "2021-12-20T08:49:01.135879Z",
     "iopub.status.idle": "2021-12-20T08:49:01.137785Z",
     "shell.execute_reply": "2021-12-20T08:49:01.138361Z",
     "shell.execute_reply.started": "2021-12-20T08:47:42.316224Z"
    },
    "papermill": {
     "duration": 0.024253,
     "end_time": "2021-12-20T08:49:01.138499",
     "exception": false,
     "start_time": "2021-12-20T08:49:01.114246",
     "status": "completed"
    },
    "tags": []
   },
   "outputs": [],
   "source": [
    "def get_transforms(data):\n",
    "    \n",
    "    if data == 'train':\n",
    "        return Compose([\n",
    "            A.Resize(CFG.IMG_SIZE, CFG.IMG_SIZE),\n",
    "            #A.RandomResizedCrop(CFG.IMG_SIZE, CFG.IMG_SIZE),\n",
    "            #A.HorizontalFlip(p=0.5),\n",
    "            #A.ShiftScaleRotate(p=0.5),\n",
    "            #A.RandomBrightnessContrast(p=0.5),\n",
    "            A.GridDistortion(num_steps=5, distort_limit=0.3, interpolation=1, border_mode=4, value=None, mask_value=None, always_apply=False, p=0.5),\n",
    "            A.Normalize(),\n",
    "            ToTensorV2(),\n",
    "        ])\n",
    "    elif data == 'valid':\n",
    "        return Compose([\n",
    "            Resize(CFG.IMG_SIZE, CFG.IMG_SIZE),\n",
    "            A.Normalize(),\n",
    "            ToTensorV2(),\n",
    "        ])"
   ]
  },
  {
   "cell_type": "code",
   "execution_count": 9,
   "id": "61b31b57",
   "metadata": {
    "execution": {
     "iopub.execute_input": "2021-12-20T08:49:01.173672Z",
     "iopub.status.busy": "2021-12-20T08:49:01.172875Z",
     "iopub.status.idle": "2021-12-20T08:49:01.174710Z",
     "shell.execute_reply": "2021-12-20T08:49:01.175181Z",
     "shell.execute_reply.started": "2021-12-20T08:47:42.325206Z"
    },
    "papermill": {
     "duration": 0.021355,
     "end_time": "2021-12-20T08:49:01.175313",
     "exception": false,
     "start_time": "2021-12-20T08:49:01.153958",
     "status": "completed"
    },
    "tags": []
   },
   "outputs": [],
   "source": [
    "#image = cv2.imread('../input/plant-pathology-2021-fgvc8/train_images/800113bb65efe69e.jpg')\n",
    "#image = cv2.cvtColor(image, cv2.COLOR_BGR2RGB)\n",
    "#transformed = get_transforms(data='train')"
   ]
  },
  {
   "cell_type": "code",
   "execution_count": 10,
   "id": "bfda9266",
   "metadata": {
    "execution": {
     "iopub.execute_input": "2021-12-20T08:49:01.209948Z",
     "iopub.status.busy": "2021-12-20T08:49:01.209129Z",
     "iopub.status.idle": "2021-12-20T08:49:01.217351Z",
     "shell.execute_reply": "2021-12-20T08:49:01.216870Z",
     "shell.execute_reply.started": "2021-12-20T08:47:42.333282Z"
    },
    "papermill": {
     "duration": 0.026466,
     "end_time": "2021-12-20T08:49:01.217465",
     "exception": false,
     "start_time": "2021-12-20T08:49:01.190999",
     "status": "completed"
    },
    "tags": []
   },
   "outputs": [],
   "source": [
    "test_dataset = TestDataset(sub_df, transform = get_transforms(data='valid'))\n",
    "test_loader = DataLoader(test_dataset, batch_size = 32, shuffle = False)"
   ]
  },
  {
   "cell_type": "code",
   "execution_count": 11,
   "id": "3465020a",
   "metadata": {
    "execution": {
     "iopub.execute_input": "2021-12-20T08:49:01.252228Z",
     "iopub.status.busy": "2021-12-20T08:49:01.251621Z",
     "iopub.status.idle": "2021-12-20T08:49:01.591541Z",
     "shell.execute_reply": "2021-12-20T08:49:01.591978Z",
     "shell.execute_reply.started": "2021-12-20T08:47:42.343594Z"
    },
    "papermill": {
     "duration": 0.359092,
     "end_time": "2021-12-20T08:49:01.592162",
     "exception": false,
     "start_time": "2021-12-20T08:49:01.233070",
     "status": "completed"
    },
    "tags": []
   },
   "outputs": [
    {
     "data": {
      "text/plain": [
       "tensor([[[ 1.2214,  1.1358,  1.0673,  ..., -0.7479, -1.1932, -1.1247],\n",
       "         [ 1.2557,  1.2214,  1.1872,  ..., -0.2513, -0.7137, -0.5082],\n",
       "         [ 1.3242,  1.3070,  1.2557,  ...,  0.3994,  0.2111,  0.1254],\n",
       "         ...,\n",
       "         [-1.5699, -1.5185, -1.4672,  ...,  1.1015,  1.1187,  1.3242],\n",
       "         [-1.5699, -1.5699, -1.4843,  ...,  1.1529,  1.0673,  1.3070],\n",
       "         [-1.5870, -1.5357, -1.5870,  ...,  0.9646,  1.0502,  1.3413]],\n",
       "\n",
       "        [[ 1.6057,  1.6057,  1.5882,  ..., -0.2150, -0.6702, -0.6352],\n",
       "         [ 1.6933,  1.6408,  1.6583,  ...,  0.2227, -0.1800, -0.1450],\n",
       "         [ 1.7108,  1.7458,  1.6758,  ...,  0.7829,  0.5728,  0.5028],\n",
       "         ...,\n",
       "         [-1.0728, -1.0203, -1.0203,  ...,  0.9580,  1.0280,  1.2031],\n",
       "         [-1.0378, -1.0378, -1.0728,  ...,  0.9755,  0.9580,  1.2206],\n",
       "         [-1.0903, -1.0378, -1.1779,  ...,  0.8004,  0.9055,  1.1856]],\n",
       "\n",
       "        [[ 1.6465,  1.6117,  1.5420,  ..., -0.6715, -1.0201, -1.0898],\n",
       "         [ 1.7337,  1.7337,  1.6291,  ..., -0.2358, -0.5495, -0.5495],\n",
       "         [ 1.7685,  1.7685,  1.7163,  ...,  0.3568,  0.3045,  0.0953],\n",
       "         ...,\n",
       "         [-1.3339, -1.2816, -1.2641,  ...,  0.9668,  1.0539,  1.1934],\n",
       "         [-1.3164, -1.3164, -1.2990,  ...,  1.0714,  1.0539,  1.2108],\n",
       "         [-1.3513, -1.2990, -1.3687,  ...,  0.9842,  0.9842,  1.1934]]])"
      ]
     },
     "execution_count": 11,
     "metadata": {},
     "output_type": "execute_result"
    }
   ],
   "source": [
    "test_dataset[0]"
   ]
  },
  {
   "cell_type": "markdown",
   "id": "bd7cb8d8",
   "metadata": {
    "papermill": {
     "duration": 0.015812,
     "end_time": "2021-12-20T08:49:01.624182",
     "exception": false,
     "start_time": "2021-12-20T08:49:01.608370",
     "status": "completed"
    },
    "tags": []
   },
   "source": [
    "# Create model"
   ]
  },
  {
   "cell_type": "code",
   "execution_count": 12,
   "id": "6ef93762",
   "metadata": {
    "execution": {
     "iopub.execute_input": "2021-12-20T08:49:01.666158Z",
     "iopub.status.busy": "2021-12-20T08:49:01.665540Z",
     "iopub.status.idle": "2021-12-20T08:49:11.785899Z",
     "shell.execute_reply": "2021-12-20T08:49:11.785453Z",
     "shell.execute_reply.started": "2021-12-20T08:47:42.574546Z"
    },
    "papermill": {
     "duration": 10.145924,
     "end_time": "2021-12-20T08:49:11.786045",
     "exception": false,
     "start_time": "2021-12-20T08:49:01.640121",
     "status": "completed"
    },
    "tags": []
   },
   "outputs": [
    {
     "data": {
      "text/plain": [
       "<All keys matched successfully>"
      ]
     },
     "execution_count": 12,
     "metadata": {},
     "output_type": "execute_result"
    }
   ],
   "source": [
    "class ViT(nn.Module):\n",
    "    \"\"\"\n",
    "        Base class for all neural network modules.\n",
    "        Your models should also subclass this class.\n",
    "        Modules can also contain other Modules, allowing to nest them in a tree structure.\n",
    "        You can assign the submodules as regular attributes:\n",
    "    \"\"\"\n",
    "    def __init__(self):\n",
    "        super(ViT, self).__init__()\n",
    "        self.vit = timm.create_model(model_name = CFG.MODEL_ARCH,pretrained = False)\n",
    "        \n",
    "        #in_features = self.vit.fc.in_features\n",
    "        #self.efficientnetb2.classifier = nn.Linear(in_features, len(CFG.LABELS))#(input_size,output_size)\n",
    "        self.vit.head = nn.Linear(self.vit.head.in_features, CFG.N_CLASS)\n",
    "\n",
    "#         self.model.fc = nn.Linear(in_features, CFG.num_classes)\n",
    "    def forward(self, x):\n",
    "        x = self.vit(x)\n",
    "        return x\n",
    "    \n",
    "model = ViT()\n",
    "\n",
    "model.load_state_dict(torch.load(\"../input/vit-data/vit_tiny.pth\"),strict=False)"
   ]
  },
  {
   "cell_type": "code",
   "execution_count": null,
   "id": "6da95634",
   "metadata": {
    "papermill": {
     "duration": 0.016068,
     "end_time": "2021-12-20T08:49:11.818259",
     "exception": false,
     "start_time": "2021-12-20T08:49:11.802191",
     "status": "completed"
    },
    "tags": []
   },
   "outputs": [],
   "source": []
  },
  {
   "cell_type": "markdown",
   "id": "58e79409",
   "metadata": {
    "papermill": {
     "duration": 0.016264,
     "end_time": "2021-12-20T08:49:11.851592",
     "exception": false,
     "start_time": "2021-12-20T08:49:11.835328",
     "status": "completed"
    },
    "tags": []
   },
   "source": [
    "# Prediction"
   ]
  },
  {
   "cell_type": "code",
   "execution_count": 13,
   "id": "8bd043ec",
   "metadata": {
    "execution": {
     "iopub.execute_input": "2021-12-20T08:49:11.891164Z",
     "iopub.status.busy": "2021-12-20T08:49:11.890331Z",
     "iopub.status.idle": "2021-12-20T08:49:18.175502Z",
     "shell.execute_reply": "2021-12-20T08:49:18.174799Z",
     "shell.execute_reply.started": "2021-12-20T08:47:53.176508Z"
    },
    "papermill": {
     "duration": 6.307528,
     "end_time": "2021-12-20T08:49:18.175627",
     "exception": false,
     "start_time": "2021-12-20T08:49:11.868099",
     "status": "completed"
    },
    "tags": []
   },
   "outputs": [
    {
     "data": {
      "text/plain": [
       "(tensor([[ 5.8339, -3.9455,  1.6149, -4.0987, -3.4655, -1.3238, -0.5848, -0.6790,\n",
       "          -0.4120,  3.4269,  4.2025,  0.5586],\n",
       "         [10.3354,  1.8510,  3.8153, -9.4806, -4.3976, -1.6649, -2.8036,  2.7918,\n",
       "           1.6051, -0.5992,  7.3573,  6.0884],\n",
       "         [ 5.5742,  6.4536,  1.6939, -4.4580, -4.2928, -2.6051,  0.6851, -0.1206,\n",
       "           3.6923, -0.6194,  5.3970,  0.1738]], device='cuda:0'),\n",
       " array([0, 0, 1]))"
      ]
     },
     "execution_count": 13,
     "metadata": {},
     "output_type": "execute_result"
    }
   ],
   "source": [
    "#model.cuda()\n",
    "model.eval()\n",
    "\n",
    "predictions = []\n",
    "for inputs in test_loader:\n",
    "    inputs = inputs.to(CFG.DEVICE)\n",
    "    with torch.no_grad():\n",
    "        model = model.to(CFG.DEVICE)\n",
    "        outputs = model(inputs)\n",
    "        #preds = outputs.sigmoid().detach().cpu().numpy()\n",
    "        preds = outputs.argmax(1).detach().cpu().numpy()\n",
    "        predictions.append(preds)\n",
    "outputs,preds"
   ]
  },
  {
   "cell_type": "code",
   "execution_count": null,
   "id": "c2fb9a92",
   "metadata": {
    "papermill": {
     "duration": 0.016354,
     "end_time": "2021-12-20T08:49:18.209224",
     "exception": false,
     "start_time": "2021-12-20T08:49:18.192870",
     "status": "completed"
    },
    "tags": []
   },
   "outputs": [],
   "source": []
  },
  {
   "cell_type": "markdown",
   "id": "c1112886",
   "metadata": {
    "papermill": {
     "duration": 0.016074,
     "end_time": "2021-12-20T08:49:18.241704",
     "exception": false,
     "start_time": "2021-12-20T08:49:18.225630",
     "status": "completed"
    },
    "tags": []
   },
   "source": [
    "# Submission"
   ]
  },
  {
   "cell_type": "code",
   "execution_count": 14,
   "id": "a4dd162d",
   "metadata": {
    "execution": {
     "iopub.execute_input": "2021-12-20T08:49:18.282584Z",
     "iopub.status.busy": "2021-12-20T08:49:18.281892Z",
     "iopub.status.idle": "2021-12-20T08:49:18.291034Z",
     "shell.execute_reply": "2021-12-20T08:49:18.291438Z",
     "shell.execute_reply.started": "2021-12-20T08:47:59.163277Z"
    },
    "papermill": {
     "duration": 0.033171,
     "end_time": "2021-12-20T08:49:18.291578",
     "exception": false,
     "start_time": "2021-12-20T08:49:18.258407",
     "status": "completed"
    },
    "tags": []
   },
   "outputs": [
    {
     "data": {
      "text/html": [
       "<div>\n",
       "<style scoped>\n",
       "    .dataframe tbody tr th:only-of-type {\n",
       "        vertical-align: middle;\n",
       "    }\n",
       "\n",
       "    .dataframe tbody tr th {\n",
       "        vertical-align: top;\n",
       "    }\n",
       "\n",
       "    .dataframe thead th {\n",
       "        text-align: right;\n",
       "    }\n",
       "</style>\n",
       "<table border=\"1\" class=\"dataframe\">\n",
       "  <thead>\n",
       "    <tr style=\"text-align: right;\">\n",
       "      <th></th>\n",
       "      <th>image</th>\n",
       "      <th>labels</th>\n",
       "    </tr>\n",
       "  </thead>\n",
       "  <tbody>\n",
       "    <tr>\n",
       "      <th>0</th>\n",
       "      <td>85f8cb619c66b863.jpg</td>\n",
       "      <td>complex</td>\n",
       "    </tr>\n",
       "    <tr>\n",
       "      <th>1</th>\n",
       "      <td>ad8770db05586b59.jpg</td>\n",
       "      <td>complex</td>\n",
       "    </tr>\n",
       "    <tr>\n",
       "      <th>2</th>\n",
       "      <td>c7b03e718489f3ca.jpg</td>\n",
       "      <td>frog_eye_leaf_spot</td>\n",
       "    </tr>\n",
       "  </tbody>\n",
       "</table>\n",
       "</div>"
      ],
      "text/plain": [
       "                  image              labels\n",
       "0  85f8cb619c66b863.jpg             complex\n",
       "1  ad8770db05586b59.jpg             complex\n",
       "2  c7b03e718489f3ca.jpg  frog_eye_leaf_spot"
      ]
     },
     "execution_count": 14,
     "metadata": {},
     "output_type": "execute_result"
    }
   ],
   "source": [
    "sub['labels'] = np.concatenate(predictions)\n",
    "sub = sub.replace({\"labels\": CFG.LABELS_DICT})\n",
    "sub.to_csv('submission.csv', index=False)\n",
    "sub.head()"
   ]
  },
  {
   "cell_type": "code",
   "execution_count": null,
   "id": "768be19f",
   "metadata": {
    "papermill": {
     "duration": 0.016507,
     "end_time": "2021-12-20T08:49:18.324823",
     "exception": false,
     "start_time": "2021-12-20T08:49:18.308316",
     "status": "completed"
    },
    "tags": []
   },
   "outputs": [],
   "source": []
  }
 ],
 "metadata": {
  "kernelspec": {
   "display_name": "Python 3",
   "language": "python",
   "name": "python3"
  },
  "language_info": {
   "codemirror_mode": {
    "name": "ipython",
    "version": 3
   },
   "file_extension": ".py",
   "mimetype": "text/x-python",
   "name": "python",
   "nbconvert_exporter": "python",
   "pygments_lexer": "ipython3",
   "version": "3.7.10"
  },
  "papermill": {
   "default_parameters": {},
   "duration": 37.431228,
   "end_time": "2021-12-20T08:49:21.277108",
   "environment_variables": {},
   "exception": null,
   "input_path": "__notebook__.ipynb",
   "output_path": "__notebook__.ipynb",
   "parameters": {},
   "start_time": "2021-12-20T08:48:43.845880",
   "version": "2.3.3"
  }
 },
 "nbformat": 4,
 "nbformat_minor": 5
}
