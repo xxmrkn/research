{
 "cells": [
  {
   "cell_type": "markdown",
   "id": "689e7573",
   "metadata": {
    "papermill": {
     "duration": 0.013135,
     "end_time": "2021-10-30T11:51:22.554505",
     "exception": false,
     "start_time": "2021-10-30T11:51:22.541370",
     "status": "completed"
    },
    "tags": []
   },
   "source": [
    "# Import Libraries"
   ]
  },
  {
   "cell_type": "code",
   "execution_count": 1,
   "id": "05fb4643",
   "metadata": {
    "execution": {
     "iopub.execute_input": "2021-10-30T11:51:22.594035Z",
     "iopub.status.busy": "2021-10-30T11:51:22.593410Z",
     "iopub.status.idle": "2021-10-30T11:51:27.512144Z",
     "shell.execute_reply": "2021-10-30T11:51:27.511549Z",
     "shell.execute_reply.started": "2021-10-30T11:50:22.846606Z"
    },
    "papermill": {
     "duration": 4.945682,
     "end_time": "2021-10-30T11:51:27.512295",
     "exception": false,
     "start_time": "2021-10-30T11:51:22.566613",
     "status": "completed"
    },
    "tags": []
   },
   "outputs": [],
   "source": [
    "import os\n",
    "import sys\n",
    "sys.path.append('../input/timm-pytorch-image-models/pytorch-image-models-master')\n",
    "\n",
    "import matplotlib.pyplot as plt\n",
    "import random\n",
    "import copy\n",
    "import numpy as np\n",
    "import pandas as pd\n",
    "from sklearn.model_selection import StratifiedKFold, GroupKFold, KFold\n",
    "from sklearn.preprocessing import LabelEncoder\n",
    "\n",
    "from sklearn.metrics import f1_score, accuracy_score\n",
    "from collections import defaultdict\n",
    "\n",
    "import torch\n",
    "import torch.nn as nn\n",
    "import torch.optim as optim\n",
    "from torch.optim import lr_scheduler\n",
    "import torch.nn.functional as F\n",
    "from torch.optim import Adam, SGD\n",
    "import torchvision.models as models\n",
    "from torch.nn.parameter import Parameter\n",
    "from torch.utils.data import Dataset\n",
    "from torch.utils.data import DataLoader\n",
    "from torchvision import transforms\n",
    "import torchvision.transforms.functional as TF\n",
    "#from efficientnet_pytorch import model as enet\n",
    "\n",
    "import cv2\n",
    "import timm\n",
    "\n",
    "from tqdm import tqdm\n",
    "from tqdm.notebook import tqdm\n",
    "\n",
    "import albumentations as A\n",
    "from albumentations import (\n",
    "    Compose, OneOf, Normalize, CenterCrop, Resize, RandomResizedCrop, RandomCrop, HorizontalFlip, VerticalFlip, \n",
    "    RandomBrightness, RandomContrast, RandomBrightnessContrast, RandomRotate90, ShiftScaleRotate, Cutout, \n",
    "    IAAAdditiveGaussianNoise, Transpose, HueSaturationValue, CoarseDropout\n",
    "    )\n",
    "from albumentations.pytorch import ToTensorV2\n",
    "\n",
    "import warnings\n",
    "warnings.filterwarnings(\"ignore\")\n",
    "\n",
    "import logging\n",
    "import time\n",
    "from contextlib import contextmanager"
   ]
  },
  {
   "cell_type": "markdown",
   "id": "96db28ab",
   "metadata": {
    "papermill": {
     "duration": 0.0118,
     "end_time": "2021-10-30T11:51:27.536386",
     "exception": false,
     "start_time": "2021-10-30T11:51:27.524586",
     "status": "completed"
    },
    "tags": []
   },
   "source": [
    "# Config"
   ]
  },
  {
   "cell_type": "code",
   "execution_count": 2,
   "id": "37270dcb",
   "metadata": {
    "execution": {
     "iopub.execute_input": "2021-10-30T11:51:27.611723Z",
     "iopub.status.busy": "2021-10-30T11:51:27.610889Z",
     "iopub.status.idle": "2021-10-30T11:51:27.613668Z",
     "shell.execute_reply": "2021-10-30T11:51:27.613254Z",
     "shell.execute_reply.started": "2021-10-30T11:50:28.668774Z"
    },
    "papermill": {
     "duration": 0.065457,
     "end_time": "2021-10-30T11:51:27.613780",
     "exception": false,
     "start_time": "2021-10-30T11:51:27.548323",
     "status": "completed"
    },
    "tags": []
   },
   "outputs": [],
   "source": [
    "class CFG:\n",
    "    DATA_PATH = '../input/plant-pathology-2021-fgvc8/'\n",
    "    TEST_PATH = DATA_PATH + 'test_images/'\n",
    "    TRAIN_PATH = DATA_PATH + 'train_images/'\n",
    "    TRAIN_CSV_PATH = DATA_PATH + 'train.csv'\n",
    "    SUB_CSV_PATH = DATA_PATH + 'sample_submission.csv'\n",
    "    \n",
    "    MODEL_ARCH ='resnet18d'\n",
    "\n",
    "    IMG_SIZE = 224\n",
    "    EPOCH = 10\n",
    "    BATCH_SIZE = 32\n",
    "    TEST_SIZE = 0.2\n",
    "    RANDOM_STATE = 1234\n",
    "    LR = 1e-4\n",
    "    N_CLASS = 12\n",
    "    \n",
    "    DEVICE = torch.device(\"cuda\" if torch.cuda.is_available() else \"cpu\")\n",
    "    #LABELS = ['healthy','complex','rust','frog_eye_leaf_spot','powdery_mildew','scab']\n",
    "    \n",
    "    LABELS_DICT = {\n",
    "    0: 'complex', \n",
    "    1: 'frog_eye_leaf_spot',\n",
    "    2: 'frog_eye_leaf_spot complex',\n",
    "    3: 'healthy',\n",
    "    4: 'powdery_mildew', \n",
    "    5: 'powdery_mildew complex',\n",
    "    6: 'rust',\n",
    "    7: 'rust complex',\n",
    "    8: 'rust frog_eye_leaf_spot',\n",
    "    9: 'scab',\n",
    "    10: 'scab frog_eye_leaf_spot',\n",
    "    11: 'scab frog_eye_leaf_spot complex'\n",
    "    }\n"
   ]
  },
  {
   "cell_type": "code",
   "execution_count": 3,
   "id": "6ec86b18",
   "metadata": {
    "execution": {
     "iopub.execute_input": "2021-10-30T11:51:27.641911Z",
     "iopub.status.busy": "2021-10-30T11:51:27.641273Z",
     "iopub.status.idle": "2021-10-30T11:51:27.680598Z",
     "shell.execute_reply": "2021-10-30T11:51:27.680180Z",
     "shell.execute_reply.started": "2021-10-30T11:50:28.736191Z"
    },
    "papermill": {
     "duration": 0.054976,
     "end_time": "2021-10-30T11:51:27.680705",
     "exception": false,
     "start_time": "2021-10-30T11:51:27.625729",
     "status": "completed"
    },
    "tags": []
   },
   "outputs": [],
   "source": [
    "train_df = pd.read_csv(CFG.TRAIN_CSV_PATH)\n",
    "sub_df = pd.read_csv(CFG.SUB_CSV_PATH)\n",
    "sub = pd.read_csv(CFG.SUB_CSV_PATH)"
   ]
  },
  {
   "cell_type": "markdown",
   "id": "7e20788a",
   "metadata": {
    "papermill": {
     "duration": 0.011799,
     "end_time": "2021-10-30T11:51:27.704413",
     "exception": false,
     "start_time": "2021-10-30T11:51:27.692614",
     "status": "completed"
    },
    "tags": []
   },
   "source": [
    "# Seed"
   ]
  },
  {
   "cell_type": "code",
   "execution_count": 4,
   "id": "84e75c5f",
   "metadata": {
    "execution": {
     "iopub.execute_input": "2021-10-30T11:51:27.734202Z",
     "iopub.status.busy": "2021-10-30T11:51:27.733527Z",
     "iopub.status.idle": "2021-10-30T11:51:27.736402Z",
     "shell.execute_reply": "2021-10-30T11:51:27.735926Z",
     "shell.execute_reply.started": "2021-10-30T11:50:28.801467Z"
    },
    "papermill": {
     "duration": 0.02024,
     "end_time": "2021-10-30T11:51:27.736508",
     "exception": false,
     "start_time": "2021-10-30T11:51:27.716268",
     "status": "completed"
    },
    "tags": []
   },
   "outputs": [],
   "source": [
    "def seed_everything(seed=1234):\n",
    "    random.seed(seed)\n",
    "    os.environ['PYTHONHASHSEED'] = str(seed)\n",
    "    np.random.seed(seed)\n",
    "    torch.manual_seed(seed)\n",
    "    #torch.cuda.manual_seed(seed)\n",
    "    torch.backends.cudnn.deterministic = True\n",
    "\n",
    "@contextmanager\n",
    "def timer(name, logger=None, level=logging.DEBUG):\n",
    "    print_ = print if logger is None else lambda msg: logger.log(level, msg)\n",
    "    t0 = time.time()\n",
    "    print_(f'[{name}] start')\n",
    "    yield\n",
    "    print_(f'[{name}] done in {time.time() - t0:.0f} s')"
   ]
  },
  {
   "cell_type": "code",
   "execution_count": 5,
   "id": "f2def7eb",
   "metadata": {
    "execution": {
     "iopub.execute_input": "2021-10-30T11:51:27.765028Z",
     "iopub.status.busy": "2021-10-30T11:51:27.764120Z",
     "iopub.status.idle": "2021-10-30T11:51:27.766744Z",
     "shell.execute_reply": "2021-10-30T11:51:27.766340Z",
     "shell.execute_reply.started": "2021-10-30T11:50:28.812922Z"
    },
    "papermill": {
     "duration": 0.018518,
     "end_time": "2021-10-30T11:51:27.766847",
     "exception": false,
     "start_time": "2021-10-30T11:51:27.748329",
     "status": "completed"
    },
    "tags": []
   },
   "outputs": [],
   "source": [
    "def to_numpy(tensor):\n",
    "    \"\"\"Auxiliary function to convert tensors into numpy arrays\n",
    "    \"\"\"\n",
    "    return tensor.detach().cpu().numpy() if tensor.requires_grad else tensor.cpu().numpy()\n"
   ]
  },
  {
   "cell_type": "markdown",
   "id": "20e40b5e",
   "metadata": {
    "papermill": {
     "duration": 0.011954,
     "end_time": "2021-10-30T11:51:27.790708",
     "exception": false,
     "start_time": "2021-10-30T11:51:27.778754",
     "status": "completed"
    },
    "tags": []
   },
   "source": [
    "# Dataset"
   ]
  },
  {
   "cell_type": "code",
   "execution_count": 6,
   "id": "7e93480e",
   "metadata": {
    "execution": {
     "iopub.execute_input": "2021-10-30T11:51:27.821107Z",
     "iopub.status.busy": "2021-10-30T11:51:27.820429Z",
     "iopub.status.idle": "2021-10-30T11:51:27.823279Z",
     "shell.execute_reply": "2021-10-30T11:51:27.822797Z",
     "shell.execute_reply.started": "2021-10-30T11:50:28.827938Z"
    },
    "papermill": {
     "duration": 0.020693,
     "end_time": "2021-10-30T11:51:27.823379",
     "exception": false,
     "start_time": "2021-10-30T11:51:27.802686",
     "status": "completed"
    },
    "tags": []
   },
   "outputs": [],
   "source": [
    "class TestDataset(Dataset):\n",
    "    def __init__(self, df, transform=None):\n",
    "        self.df = df\n",
    "        self.image_names = df['image'].values\n",
    "        self.labels = df['labels'].values\n",
    "        self.transform = transform\n",
    "\n",
    "    def __len__(self):\n",
    "        return len(self.df)\n",
    "\n",
    "    def __getitem__(self, idx):\n",
    "        image_name = self.image_names[idx]\n",
    "        label = self.labels[idx]\n",
    "        image_path = CFG.TEST_PATH + image_name\n",
    "        image = cv2.imread(image_path)\n",
    "        image = cv2.cvtColor(image, cv2.COLOR_BGR2RGB)\n",
    "        if self.transform:\n",
    "            augmented = self.transform(image=image)\n",
    "            image = augmented['image']\n",
    "        return image"
   ]
  },
  {
   "cell_type": "markdown",
   "id": "af14c635",
   "metadata": {
    "papermill": {
     "duration": 0.011876,
     "end_time": "2021-10-30T11:51:27.847070",
     "exception": false,
     "start_time": "2021-10-30T11:51:27.835194",
     "status": "completed"
    },
    "tags": []
   },
   "source": [
    "# Transform"
   ]
  },
  {
   "cell_type": "code",
   "execution_count": 7,
   "id": "a1f950df",
   "metadata": {
    "execution": {
     "iopub.execute_input": "2021-10-30T11:51:27.877403Z",
     "iopub.status.busy": "2021-10-30T11:51:27.875994Z",
     "iopub.status.idle": "2021-10-30T11:51:27.878248Z",
     "shell.execute_reply": "2021-10-30T11:51:27.878657Z",
     "shell.execute_reply.started": "2021-10-30T11:50:28.841672Z"
    },
    "papermill": {
     "duration": 0.019708,
     "end_time": "2021-10-30T11:51:27.878771",
     "exception": false,
     "start_time": "2021-10-30T11:51:27.859063",
     "status": "completed"
    },
    "tags": []
   },
   "outputs": [],
   "source": [
    "def get_transforms(data):\n",
    "    \n",
    "    if data == 'train':\n",
    "        return Compose([\n",
    "            A.Resize(CFG.IMG_SIZE, CFG.IMG_SIZE),\n",
    "            A.RandomResizedCrop(CFG.IMG_SIZE, CFG.IMG_SIZE),\n",
    "            A.HorizontalFlip(p=0.5),\n",
    "            A.ShiftScaleRotate(p=0.5),\n",
    "            A.RandomBrightnessContrast(p=0.5),\n",
    "\n",
    "            A.Normalize(),\n",
    "            ToTensorV2(),\n",
    "        ])\n",
    "    elif data == 'valid':\n",
    "        return Compose([\n",
    "            Resize(CFG.IMG_SIZE, CFG.IMG_SIZE),\n",
    "            Normalize(),\n",
    "            ToTensorV2(),\n",
    "        ])"
   ]
  },
  {
   "cell_type": "code",
   "execution_count": 8,
   "id": "e5305ed0",
   "metadata": {
    "execution": {
     "iopub.execute_input": "2021-10-30T11:51:27.911997Z",
     "iopub.status.busy": "2021-10-30T11:51:27.911257Z",
     "iopub.status.idle": "2021-10-30T11:51:27.913717Z",
     "shell.execute_reply": "2021-10-30T11:51:27.914119Z",
     "shell.execute_reply.started": "2021-10-30T11:50:28.858457Z"
    },
    "papermill": {
     "duration": 0.023503,
     "end_time": "2021-10-30T11:51:27.914241",
     "exception": false,
     "start_time": "2021-10-30T11:51:27.890738",
     "status": "completed"
    },
    "tags": []
   },
   "outputs": [],
   "source": [
    "test_dataset = TestDataset(sub_df, transform = get_transforms(data='valid'))\n",
    "test_loader = DataLoader(test_dataset, batch_size = 32, shuffle = False)"
   ]
  },
  {
   "cell_type": "code",
   "execution_count": 9,
   "id": "af856b08",
   "metadata": {
    "execution": {
     "iopub.execute_input": "2021-10-30T11:51:27.942103Z",
     "iopub.status.busy": "2021-10-30T11:51:27.941573Z",
     "iopub.status.idle": "2021-10-30T11:51:28.270128Z",
     "shell.execute_reply": "2021-10-30T11:51:28.270565Z",
     "shell.execute_reply.started": "2021-10-30T11:50:28.873310Z"
    },
    "papermill": {
     "duration": 0.344124,
     "end_time": "2021-10-30T11:51:28.270714",
     "exception": false,
     "start_time": "2021-10-30T11:51:27.926590",
     "status": "completed"
    },
    "tags": []
   },
   "outputs": [
    {
     "data": {
      "text/plain": [
       "tensor([[[ 1.2214,  1.1358,  1.0673,  ..., -0.7479, -1.1932, -1.1247],\n",
       "         [ 1.2557,  1.2214,  1.1872,  ..., -0.2513, -0.7137, -0.5082],\n",
       "         [ 1.3242,  1.3070,  1.2557,  ...,  0.3994,  0.2111,  0.1254],\n",
       "         ...,\n",
       "         [-1.5699, -1.5185, -1.4672,  ...,  1.1015,  1.1187,  1.3242],\n",
       "         [-1.5699, -1.5699, -1.4843,  ...,  1.1529,  1.0673,  1.3070],\n",
       "         [-1.5870, -1.5357, -1.5870,  ...,  0.9646,  1.0502,  1.3413]],\n",
       "\n",
       "        [[ 1.6057,  1.6057,  1.5882,  ..., -0.2150, -0.6702, -0.6352],\n",
       "         [ 1.6933,  1.6408,  1.6583,  ...,  0.2227, -0.1800, -0.1450],\n",
       "         [ 1.7108,  1.7458,  1.6758,  ...,  0.7829,  0.5728,  0.5028],\n",
       "         ...,\n",
       "         [-1.0728, -1.0203, -1.0203,  ...,  0.9580,  1.0280,  1.2031],\n",
       "         [-1.0378, -1.0378, -1.0728,  ...,  0.9755,  0.9580,  1.2206],\n",
       "         [-1.0903, -1.0378, -1.1779,  ...,  0.8004,  0.9055,  1.1856]],\n",
       "\n",
       "        [[ 1.6465,  1.6117,  1.5420,  ..., -0.6715, -1.0201, -1.0898],\n",
       "         [ 1.7337,  1.7337,  1.6291,  ..., -0.2358, -0.5495, -0.5495],\n",
       "         [ 1.7685,  1.7685,  1.7163,  ...,  0.3568,  0.3045,  0.0953],\n",
       "         ...,\n",
       "         [-1.3339, -1.2816, -1.2641,  ...,  0.9668,  1.0539,  1.1934],\n",
       "         [-1.3164, -1.3164, -1.2990,  ...,  1.0714,  1.0539,  1.2108],\n",
       "         [-1.3513, -1.2990, -1.3687,  ...,  0.9842,  0.9842,  1.1934]]])"
      ]
     },
     "execution_count": 9,
     "metadata": {},
     "output_type": "execute_result"
    }
   ],
   "source": [
    "test_dataset[0]"
   ]
  },
  {
   "cell_type": "markdown",
   "id": "27fd733c",
   "metadata": {
    "papermill": {
     "duration": 0.012299,
     "end_time": "2021-10-30T11:51:28.296024",
     "exception": false,
     "start_time": "2021-10-30T11:51:28.283725",
     "status": "completed"
    },
    "tags": []
   },
   "source": [
    "# Create model"
   ]
  },
  {
   "cell_type": "code",
   "execution_count": 10,
   "id": "6b8dc010",
   "metadata": {
    "execution": {
     "iopub.execute_input": "2021-10-30T11:51:28.330387Z",
     "iopub.status.busy": "2021-10-30T11:51:28.329766Z",
     "iopub.status.idle": "2021-10-30T11:51:34.061353Z",
     "shell.execute_reply": "2021-10-30T11:51:34.060465Z",
     "shell.execute_reply.started": "2021-10-30T11:50:29.270994Z"
    },
    "papermill": {
     "duration": 5.752934,
     "end_time": "2021-10-30T11:51:34.061506",
     "exception": false,
     "start_time": "2021-10-30T11:51:28.308572",
     "status": "completed"
    },
    "tags": []
   },
   "outputs": [
    {
     "data": {
      "text/plain": [
       "<All keys matched successfully>"
      ]
     },
     "execution_count": 10,
     "metadata": {},
     "output_type": "execute_result"
    }
   ],
   "source": [
    "class ResNet(nn.Module):\n",
    "    \"\"\"\n",
    "        Base class for all neural network modules.\n",
    "        Your models should also subclass this class.\n",
    "        Modules can also contain other Modules, allowing to nest them in a tree structure.\n",
    "        You can assign the submodules as regular attributes:\n",
    "    \"\"\"\n",
    "    def __init__(self):\n",
    "        super(ResNet, self).__init__()\n",
    "        self.resnet = timm.create_model(model_name = CFG.MODEL_ARCH,pretrained = False,num_classes=CFG.N_CLASS)\n",
    "        in_features = self.resnet.fc.in_features\n",
    "        self.resnet.fc = nn.Linear(in_features, CFG.N_CLASS)#(input_size,output_size)\n",
    "        \n",
    "    def forward(self, x):\n",
    "        x = self.resnet(x)\n",
    "        return x\n",
    "    \n",
    "model = ResNet()\n",
    "#print(in_features)\n",
    "\n",
    "model.load_state_dict(torch.load(\"../input/myresnet/resnet_pretrained.pt\"))"
   ]
  },
  {
   "cell_type": "markdown",
   "id": "16bc93e2",
   "metadata": {
    "papermill": {
     "duration": 0.012415,
     "end_time": "2021-10-30T11:51:34.086709",
     "exception": false,
     "start_time": "2021-10-30T11:51:34.074294",
     "status": "completed"
    },
    "tags": []
   },
   "source": [
    "# Prediction"
   ]
  },
  {
   "cell_type": "code",
   "execution_count": 11,
   "id": "e49efe1a",
   "metadata": {
    "execution": {
     "iopub.execute_input": "2021-10-30T11:51:34.119188Z",
     "iopub.status.busy": "2021-10-30T11:51:34.118413Z",
     "iopub.status.idle": "2021-10-30T11:51:35.552374Z",
     "shell.execute_reply": "2021-10-30T11:51:35.553304Z",
     "shell.execute_reply.started": "2021-10-30T11:50:36.610164Z"
    },
    "papermill": {
     "duration": 1.454094,
     "end_time": "2021-10-30T11:51:35.553475",
     "exception": false,
     "start_time": "2021-10-30T11:51:34.099381",
     "status": "completed"
    },
    "tags": []
   },
   "outputs": [
    {
     "data": {
      "text/plain": [
       "(tensor([[ 3.4771, -3.2246, -0.6834, -1.2569, -2.2680, -1.1558,  0.8763, -1.3094,\n",
       "          -1.8002, -0.0516,  1.1033, -1.5505],\n",
       "         [ 2.2603, -1.0016, -0.5991, -3.8893, -4.3310, -2.1452, -4.5374, -2.3222,\n",
       "          -3.0177,  1.7357,  4.0307,  2.2573],\n",
       "         [-0.0240,  2.1711,  0.6140, -2.6176, -2.7231, -2.1472, -0.1318, -0.4489,\n",
       "           0.3143, -2.0965,  0.4945,  0.0275]], device='cuda:0'),\n",
       " array([ 0, 10,  1]))"
      ]
     },
     "execution_count": 11,
     "metadata": {},
     "output_type": "execute_result"
    }
   ],
   "source": [
    "#model.cuda()\n",
    "model.eval()\n",
    "\n",
    "predictions = []\n",
    "for inputs in test_loader:\n",
    "    inputs = inputs.to(CFG.DEVICE)\n",
    "    with torch.no_grad():\n",
    "        model = model.to(CFG.DEVICE)\n",
    "        outputs = model(inputs)\n",
    "        preds = outputs.argmax(1).detach().cpu().numpy()\n",
    "        predictions.append(preds)\n",
    "outputs,preds"
   ]
  },
  {
   "cell_type": "markdown",
   "id": "4c504c99",
   "metadata": {
    "papermill": {
     "duration": 0.014169,
     "end_time": "2021-10-30T11:51:35.583614",
     "exception": false,
     "start_time": "2021-10-30T11:51:35.569445",
     "status": "completed"
    },
    "tags": []
   },
   "source": [
    "# Submission"
   ]
  },
  {
   "cell_type": "code",
   "execution_count": 12,
   "id": "84971594",
   "metadata": {
    "execution": {
     "iopub.execute_input": "2021-10-30T11:51:35.622281Z",
     "iopub.status.busy": "2021-10-30T11:51:35.621347Z",
     "iopub.status.idle": "2021-10-30T11:51:35.635865Z",
     "shell.execute_reply": "2021-10-30T11:51:35.636315Z",
     "shell.execute_reply.started": "2021-10-30T11:50:38.668772Z"
    },
    "papermill": {
     "duration": 0.038631,
     "end_time": "2021-10-30T11:51:35.636532",
     "exception": false,
     "start_time": "2021-10-30T11:51:35.597901",
     "status": "completed"
    },
    "tags": []
   },
   "outputs": [
    {
     "data": {
      "text/html": [
       "<div>\n",
       "<style scoped>\n",
       "    .dataframe tbody tr th:only-of-type {\n",
       "        vertical-align: middle;\n",
       "    }\n",
       "\n",
       "    .dataframe tbody tr th {\n",
       "        vertical-align: top;\n",
       "    }\n",
       "\n",
       "    .dataframe thead th {\n",
       "        text-align: right;\n",
       "    }\n",
       "</style>\n",
       "<table border=\"1\" class=\"dataframe\">\n",
       "  <thead>\n",
       "    <tr style=\"text-align: right;\">\n",
       "      <th></th>\n",
       "      <th>image</th>\n",
       "      <th>labels</th>\n",
       "    </tr>\n",
       "  </thead>\n",
       "  <tbody>\n",
       "    <tr>\n",
       "      <th>0</th>\n",
       "      <td>85f8cb619c66b863.jpg</td>\n",
       "      <td>complex</td>\n",
       "    </tr>\n",
       "    <tr>\n",
       "      <th>1</th>\n",
       "      <td>ad8770db05586b59.jpg</td>\n",
       "      <td>scab frog_eye_leaf_spot</td>\n",
       "    </tr>\n",
       "    <tr>\n",
       "      <th>2</th>\n",
       "      <td>c7b03e718489f3ca.jpg</td>\n",
       "      <td>frog_eye_leaf_spot</td>\n",
       "    </tr>\n",
       "  </tbody>\n",
       "</table>\n",
       "</div>"
      ],
      "text/plain": [
       "                  image                   labels\n",
       "0  85f8cb619c66b863.jpg                  complex\n",
       "1  ad8770db05586b59.jpg  scab frog_eye_leaf_spot\n",
       "2  c7b03e718489f3ca.jpg       frog_eye_leaf_spot"
      ]
     },
     "execution_count": 12,
     "metadata": {},
     "output_type": "execute_result"
    }
   ],
   "source": [
    "sub['labels'] = np.concatenate(predictions)\n",
    "sub = sub.replace({\"labels\": CFG.LABELS_DICT})\n",
    "sub.to_csv('submission.csv', index=False)\n",
    "sub.head()"
   ]
  }
 ],
 "metadata": {
  "kernelspec": {
   "display_name": "Python 3",
   "language": "python",
   "name": "python3"
  },
  "language_info": {
   "codemirror_mode": {
    "name": "ipython",
    "version": 3
   },
   "file_extension": ".py",
   "mimetype": "text/x-python",
   "name": "python",
   "nbconvert_exporter": "python",
   "pygments_lexer": "ipython3",
   "version": "3.7.10"
  },
  "papermill": {
   "default_parameters": {},
   "duration": 21.61353,
   "end_time": "2021-10-30T11:51:37.613344",
   "environment_variables": {},
   "exception": null,
   "input_path": "__notebook__.ipynb",
   "output_path": "__notebook__.ipynb",
   "parameters": {},
   "start_time": "2021-10-30T11:51:15.999814",
   "version": "2.3.3"
  }
 },
 "nbformat": 4,
 "nbformat_minor": 5
}
